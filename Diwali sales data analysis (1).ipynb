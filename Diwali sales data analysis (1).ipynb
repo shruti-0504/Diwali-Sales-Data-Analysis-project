{
 "cells": [
  {
   "cell_type": "markdown",
   "id": "2f71dc4f-2c6e-4878-8c8a-c5a883b61483",
   "metadata": {},
   "source": [
    "# Data Analysis Project"
   ]
  },
  {
   "cell_type": "markdown",
   "id": "ed34f1bf-5fb5-4b62-9efc-dd30902c03ed",
   "metadata": {},
   "source": [
    "## Business Problem\n",
    "**client wants us to analyze diwali sales data in order to understand the trends, insights, top performing products, categories, zone so that they can prepare better and improve sales.**"
   ]
  },
  {
   "cell_type": "markdown",
   "id": "e3eb78cb-ea43-48b5-ad6e-1ef4b4727b01",
   "metadata": {},
   "source": [
    "## Data Collection \n",
    "- client has provided historial data in csv file.\n",
    "- Link : https://drive.google.com/file/d/1mGY1doT8RRTgIS0eZsiexHOjUIel9pvo/view?usp=sharing"
   ]
  },
  {
   "cell_type": "code",
   "execution_count": 127,
   "id": "75971a68-e057-4c40-b6e2-7eee590e5083",
   "metadata": {},
   "outputs": [],
   "source": [
    "import numpy as np\n",
    "import pandas as pd\n",
    "import matplotlib.pyplot as plt\n",
    "import seaborn as sns"
   ]
  },
  {
   "cell_type": "code",
   "execution_count": 128,
   "id": "e59f8cab-5535-4d4e-a63e-a648f21ce7dc",
   "metadata": {},
   "outputs": [
    {
     "data": {
      "text/html": [
       "<div>\n",
       "<style scoped>\n",
       "    .dataframe tbody tr th:only-of-type {\n",
       "        vertical-align: middle;\n",
       "    }\n",
       "\n",
       "    .dataframe tbody tr th {\n",
       "        vertical-align: top;\n",
       "    }\n",
       "\n",
       "    .dataframe thead th {\n",
       "        text-align: right;\n",
       "    }\n",
       "</style>\n",
       "<table border=\"1\" class=\"dataframe\">\n",
       "  <thead>\n",
       "    <tr style=\"text-align: right;\">\n",
       "      <th></th>\n",
       "      <th>User_ID</th>\n",
       "      <th>Cust_name</th>\n",
       "      <th>Product_ID</th>\n",
       "      <th>Gender</th>\n",
       "      <th>Age Group</th>\n",
       "      <th>Age</th>\n",
       "      <th>Marital_Status</th>\n",
       "      <th>State</th>\n",
       "      <th>Zone</th>\n",
       "      <th>Occupation</th>\n",
       "      <th>Product_Category</th>\n",
       "      <th>Orders</th>\n",
       "      <th>Amount</th>\n",
       "      <th>Status</th>\n",
       "      <th>unnamed1</th>\n",
       "    </tr>\n",
       "  </thead>\n",
       "  <tbody>\n",
       "    <tr>\n",
       "      <th>0</th>\n",
       "      <td>1002903.0</td>\n",
       "      <td>Sanskriti</td>\n",
       "      <td>P00125942</td>\n",
       "      <td>F</td>\n",
       "      <td>26-35</td>\n",
       "      <td>28</td>\n",
       "      <td>0.0</td>\n",
       "      <td>Maharashtra</td>\n",
       "      <td>Western</td>\n",
       "      <td>Healthcare</td>\n",
       "      <td>Auto</td>\n",
       "      <td>1.0</td>\n",
       "      <td>23952</td>\n",
       "      <td>NaN</td>\n",
       "      <td>NaN</td>\n",
       "    </tr>\n",
       "    <tr>\n",
       "      <th>1</th>\n",
       "      <td>1000732.0</td>\n",
       "      <td>Kartik</td>\n",
       "      <td>P00110942</td>\n",
       "      <td>F</td>\n",
       "      <td>26-35</td>\n",
       "      <td>35</td>\n",
       "      <td>1.0</td>\n",
       "      <td>Andhra Pradesh</td>\n",
       "      <td>Southern</td>\n",
       "      <td>Govt</td>\n",
       "      <td>Auto</td>\n",
       "      <td>3.0</td>\n",
       "      <td>23934</td>\n",
       "      <td>NaN</td>\n",
       "      <td>NaN</td>\n",
       "    </tr>\n",
       "    <tr>\n",
       "      <th>2</th>\n",
       "      <td>1001990.0</td>\n",
       "      <td>Bindu</td>\n",
       "      <td>P00118542</td>\n",
       "      <td>F</td>\n",
       "      <td>26-35</td>\n",
       "      <td>35</td>\n",
       "      <td>1.0</td>\n",
       "      <td>Uttar Pradesh</td>\n",
       "      <td>Central</td>\n",
       "      <td>Automobile</td>\n",
       "      <td>Auto</td>\n",
       "      <td>3.0</td>\n",
       "      <td>23924</td>\n",
       "      <td>NaN</td>\n",
       "      <td>NaN</td>\n",
       "    </tr>\n",
       "    <tr>\n",
       "      <th>3</th>\n",
       "      <td>1001425.0</td>\n",
       "      <td>Sudevi</td>\n",
       "      <td>P00237842</td>\n",
       "      <td>M</td>\n",
       "      <td>0-17</td>\n",
       "      <td>16</td>\n",
       "      <td>0.0</td>\n",
       "      <td>Karnataka</td>\n",
       "      <td>Southern</td>\n",
       "      <td>Construction</td>\n",
       "      <td>Auto</td>\n",
       "      <td>2.0</td>\n",
       "      <td>23912</td>\n",
       "      <td>NaN</td>\n",
       "      <td>NaN</td>\n",
       "    </tr>\n",
       "    <tr>\n",
       "      <th>4</th>\n",
       "      <td>1000588.0</td>\n",
       "      <td>Joni</td>\n",
       "      <td>P00057942</td>\n",
       "      <td>M</td>\n",
       "      <td>26-35</td>\n",
       "      <td>28</td>\n",
       "      <td>1.0</td>\n",
       "      <td>Gujarat</td>\n",
       "      <td>Western</td>\n",
       "      <td>Food Processing</td>\n",
       "      <td>Auto</td>\n",
       "      <td>2.0</td>\n",
       "      <td>23877</td>\n",
       "      <td>NaN</td>\n",
       "      <td>NaN</td>\n",
       "    </tr>\n",
       "  </tbody>\n",
       "</table>\n",
       "</div>"
      ],
      "text/plain": [
       "     User_ID  Cust_name Product_ID Gender Age Group Age  Marital_Status  \\\n",
       "0  1002903.0  Sanskriti  P00125942      F     26-35  28             0.0   \n",
       "1  1000732.0     Kartik  P00110942      F     26-35  35             1.0   \n",
       "2  1001990.0      Bindu  P00118542      F     26-35  35             1.0   \n",
       "3  1001425.0     Sudevi  P00237842      M      0-17  16             0.0   \n",
       "4  1000588.0       Joni  P00057942      M     26-35  28             1.0   \n",
       "\n",
       "            State      Zone       Occupation Product_Category  Orders Amount  \\\n",
       "0     Maharashtra   Western       Healthcare             Auto     1.0  23952   \n",
       "1  Andhra Pradesh  Southern             Govt             Auto     3.0  23934   \n",
       "2   Uttar Pradesh   Central       Automobile             Auto     3.0  23924   \n",
       "3       Karnataka  Southern     Construction             Auto     2.0  23912   \n",
       "4         Gujarat   Western  Food Processing             Auto     2.0  23877   \n",
       "\n",
       "   Status  unnamed1  \n",
       "0     NaN       NaN  \n",
       "1     NaN       NaN  \n",
       "2     NaN       NaN  \n",
       "3     NaN       NaN  \n",
       "4     NaN       NaN  "
      ]
     },
     "execution_count": 128,
     "metadata": {},
     "output_type": "execute_result"
    }
   ],
   "source": [
    "data = pd.read_csv(r\"C:\\Users\\manis\\Downloads\\Diwali Sales Data.csv\", encoding = 'unicode_escape' )\n",
    "data.head()"
   ]
  },
  {
   "cell_type": "code",
   "execution_count": 129,
   "id": "f952208f-8d2f-4a98-af7c-896af2028c21",
   "metadata": {},
   "outputs": [],
   "source": [
    "df = data.copy()"
   ]
  },
  {
   "cell_type": "markdown",
   "id": "debba4c3-a9ae-4de1-9173-a6fd8f4ceb99",
   "metadata": {},
   "source": [
    "## Data Pre-processing\n",
    "- **Data Profiling**\n",
    "- **Data Cleaning**\n",
    "- **Error Handling(Data consistancy)**\n",
    "- **Data Formatting**\n",
    "- **Outlier Detection and Removal**\n"
   ]
  },
  {
   "cell_type": "code",
   "execution_count": 130,
   "id": "740386ef-ca80-4733-a8a7-3d221f4174f9",
   "metadata": {},
   "outputs": [
    {
     "data": {
      "text/plain": [
       "(11345, 15)"
      ]
     },
     "execution_count": 130,
     "metadata": {},
     "output_type": "execute_result"
    }
   ],
   "source": [
    "df.shape\n"
   ]
  },
  {
   "cell_type": "code",
   "execution_count": 131,
   "id": "4594ce8b-2af7-4202-9df0-0cc2f8be1617",
   "metadata": {},
   "outputs": [
    {
     "name": "stdout",
     "output_type": "stream",
     "text": [
      "<class 'pandas.core.frame.DataFrame'>\n",
      "RangeIndex: 11345 entries, 0 to 11344\n",
      "Data columns (total 15 columns):\n",
      " #   Column            Non-Null Count  Dtype  \n",
      "---  ------            --------------  -----  \n",
      " 0   User_ID           11321 non-null  float64\n",
      " 1   Cust_name         11344 non-null  object \n",
      " 2   Product_ID        11341 non-null  object \n",
      " 3   Gender            11341 non-null  object \n",
      " 4   Age Group         11339 non-null  object \n",
      " 5   Age               11334 non-null  object \n",
      " 6   Marital_Status    11339 non-null  float64\n",
      " 7   State             11332 non-null  object \n",
      " 8   Zone              11334 non-null  object \n",
      " 9   Occupation        11339 non-null  object \n",
      " 10  Product_Category  11334 non-null  object \n",
      " 11  Orders            11342 non-null  float64\n",
      " 12  Amount            11331 non-null  object \n",
      " 13  Status            0 non-null      float64\n",
      " 14  unnamed1          0 non-null      float64\n",
      "dtypes: float64(5), object(10)\n",
      "memory usage: 1.3+ MB\n"
     ]
    }
   ],
   "source": [
    "df.info()"
   ]
  },
  {
   "cell_type": "code",
   "execution_count": 132,
   "id": "58894ad3-6fd3-4825-8364-8ae424354297",
   "metadata": {},
   "outputs": [
    {
     "data": {
      "text/plain": [
       "User_ID                24\n",
       "Cust_name               1\n",
       "Product_ID              4\n",
       "Gender                  4\n",
       "Age Group               6\n",
       "Age                    11\n",
       "Marital_Status          6\n",
       "State                  13\n",
       "Zone                   11\n",
       "Occupation              6\n",
       "Product_Category       11\n",
       "Orders                  3\n",
       "Amount                 14\n",
       "Status              11345\n",
       "unnamed1            11345\n",
       "dtype: int64"
      ]
     },
     "execution_count": 132,
     "metadata": {},
     "output_type": "execute_result"
    }
   ],
   "source": [
    "# Null values\n",
    "df.isnull().sum()"
   ]
  },
  {
   "cell_type": "code",
   "execution_count": 133,
   "id": "115f7d9d-d195-4f42-8493-4841d70fc1f8",
   "metadata": {},
   "outputs": [
    {
     "data": {
      "text/plain": [
       "Index(['User_ID', 'Cust_name', 'Product_ID', 'Gender', 'Age Group', 'Age',\n",
       "       'Marital_Status', 'State', 'Zone', 'Occupation', 'Product_Category',\n",
       "       'Orders', 'Amount', 'Status', 'unnamed1'],\n",
       "      dtype='object')"
      ]
     },
     "execution_count": 133,
     "metadata": {},
     "output_type": "execute_result"
    }
   ],
   "source": [
    "# All columns\n",
    "all_columns = df.columns\n",
    "all_columns"
   ]
  },
  {
   "cell_type": "code",
   "execution_count": 134,
   "id": "81358cd2-0144-41d2-839d-964bccd2d82c",
   "metadata": {},
   "outputs": [
    {
     "data": {
      "text/plain": [
       "Index(['User_ID', 'Marital_Status', 'Orders', 'Status', 'unnamed1'], dtype='object')"
      ]
     },
     "execution_count": 134,
     "metadata": {},
     "output_type": "execute_result"
    }
   ],
   "source": [
    "# Numeric columns\n",
    "numeric_columns = df.select_dtypes(include =np.number).columns\n",
    "numeric_columns"
   ]
  },
  {
   "cell_type": "code",
   "execution_count": 135,
   "id": "1c027aa6-6733-4910-99fe-447f27efc65c",
   "metadata": {},
   "outputs": [
    {
     "data": {
      "text/plain": [
       "Index(['Cust_name', 'Product_ID', 'Gender', 'Age Group', 'Age', 'State',\n",
       "       'Zone', 'Occupation', 'Product_Category', 'Amount'],\n",
       "      dtype='object')"
      ]
     },
     "execution_count": 135,
     "metadata": {},
     "output_type": "execute_result"
    }
   ],
   "source": [
    "# Non-numeric columns\n",
    "non_numeric_columns = df.select_dtypes(include = object).columns\n",
    "non_numeric_columns"
   ]
  },
  {
   "cell_type": "code",
   "execution_count": 136,
   "id": "636a95e7-eb7b-44cb-8ac3-1e4102386a43",
   "metadata": {},
   "outputs": [
    {
     "data": {
      "text/plain": [
       "0        False\n",
       "1        False\n",
       "2        False\n",
       "3        False\n",
       "4        False\n",
       "         ...  \n",
       "11340    False\n",
       "11341    False\n",
       "11342    False\n",
       "11343     True\n",
       "11344    False\n",
       "Length: 11345, dtype: bool"
      ]
     },
     "execution_count": 136,
     "metadata": {},
     "output_type": "execute_result"
    }
   ],
   "source": [
    "# Duplicate values\n",
    "df.duplicated()"
   ]
  },
  {
   "cell_type": "code",
   "execution_count": 137,
   "id": "c5243faf-3fed-45c2-8642-a58e9ee0d9ea",
   "metadata": {},
   "outputs": [
    {
     "data": {
      "text/html": [
       "<div>\n",
       "<style scoped>\n",
       "    .dataframe tbody tr th:only-of-type {\n",
       "        vertical-align: middle;\n",
       "    }\n",
       "\n",
       "    .dataframe tbody tr th {\n",
       "        vertical-align: top;\n",
       "    }\n",
       "\n",
       "    .dataframe thead th {\n",
       "        text-align: right;\n",
       "    }\n",
       "</style>\n",
       "<table border=\"1\" class=\"dataframe\">\n",
       "  <thead>\n",
       "    <tr style=\"text-align: right;\">\n",
       "      <th></th>\n",
       "      <th>User_ID</th>\n",
       "      <th>Cust_name</th>\n",
       "      <th>Product_ID</th>\n",
       "      <th>Gender</th>\n",
       "      <th>Age Group</th>\n",
       "      <th>Age</th>\n",
       "      <th>Marital_Status</th>\n",
       "      <th>State</th>\n",
       "      <th>Zone</th>\n",
       "      <th>Occupation</th>\n",
       "      <th>Product_Category</th>\n",
       "      <th>Orders</th>\n",
       "      <th>Amount</th>\n",
       "      <th>Status</th>\n",
       "      <th>unnamed1</th>\n",
       "    </tr>\n",
       "  </thead>\n",
       "  <tbody>\n",
       "  </tbody>\n",
       "</table>\n",
       "</div>"
      ],
      "text/plain": [
       "Empty DataFrame\n",
       "Columns: [User_ID, Cust_name, Product_ID, Gender, Age Group, Age, Marital_Status, State, Zone, Occupation, Product_Category, Orders, Amount, Status, unnamed1]\n",
       "Index: []"
      ]
     },
     "execution_count": 137,
     "metadata": {},
     "output_type": "execute_result"
    }
   ],
   "source": [
    "# Filtering out the duplicated entries\n",
    "df= df[~df.duplicated()]\n",
    "df[df.duplicated()]"
   ]
  },
  {
   "cell_type": "code",
   "execution_count": 138,
   "id": "2f02fef7-340a-4c5b-b4cb-e83a5969216b",
   "metadata": {},
   "outputs": [
    {
     "data": {
      "text/plain": [
       "Index(['User_ID', 'Cust_name', 'Product_ID', 'Gender', 'Age Group', 'Age',\n",
       "       'Marital_Status', 'State', 'Zone', 'Occupation', 'Product_Category',\n",
       "       'Orders', 'Amount', 'Status', 'unnamed1'],\n",
       "      dtype='object')"
      ]
     },
     "execution_count": 138,
     "metadata": {},
     "output_type": "execute_result"
    }
   ],
   "source": [
    "df.columns"
   ]
  },
  {
   "cell_type": "code",
   "execution_count": 139,
   "id": "af1b6077-9608-4072-ba18-37bce2b3e13a",
   "metadata": {},
   "outputs": [
    {
     "data": {
      "text/plain": [
       "array(['23952', '23934', '23924', ..., '125621259', '876021246', 'abcde'],\n",
       "      dtype=object)"
      ]
     },
     "execution_count": 139,
     "metadata": {},
     "output_type": "execute_result"
    }
   ],
   "source": [
    "df[\"Amount\"].unique()"
   ]
  },
  {
   "cell_type": "code",
   "execution_count": 140,
   "id": "37180e83-ab0e-49dd-aeb4-13db36246673",
   "metadata": {},
   "outputs": [
    {
     "data": {
      "text/plain": [
       "Orders\n",
       "2.0     2911\n",
       "1.0     2826\n",
       "4.0     2788\n",
       "3.0     2775\n",
       "40.0       1\n",
       "24.0       1\n",
       "Name: count, dtype: int64"
      ]
     },
     "execution_count": 140,
     "metadata": {},
     "output_type": "execute_result"
    }
   ],
   "source": [
    "df['Orders'].value_counts()"
   ]
  },
  {
   "cell_type": "code",
   "execution_count": 141,
   "id": "561b4375-34e5-481c-9bf3-fd847192412c",
   "metadata": {},
   "outputs": [
    {
     "data": {
      "text/plain": [
       "array(['Maharashtra', 'Andhra\\xa0Pradesh', 'Uttar Pradesh', 'Karnataka',\n",
       "       'Gujarat', 'Himachal Pradesh', 'Delhi', 'Madhya Pradesh',\n",
       "       'Jharkhand', 'Kerala', 'Nndhra\\xa0Pradesh', nan, 'Bihar',\n",
       "       'Rajasthan', 'Haryana', 'Uttarakhand', 'Telangana', 'Punjab'],\n",
       "      dtype=object)"
      ]
     },
     "execution_count": 141,
     "metadata": {},
     "output_type": "execute_result"
    }
   ],
   "source": [
    "df['State'].unique()"
   ]
  },
  {
   "cell_type": "code",
   "execution_count": 142,
   "id": "1e0ee715-7c72-441d-9d04-856c580cdf17",
   "metadata": {},
   "outputs": [
    {
     "data": {
      "text/plain": [
       "array(['Western', 'Southern', 'Central', 'Northern', 'Zentral', 'Eastern',\n",
       "       nan], dtype=object)"
      ]
     },
     "execution_count": 142,
     "metadata": {},
     "output_type": "execute_result"
    }
   ],
   "source": [
    "df['Zone'].unique()"
   ]
  },
  {
   "cell_type": "code",
   "execution_count": 143,
   "id": "b4b559e0-e48c-4a1e-aec6-ef0636bf2ff5",
   "metadata": {},
   "outputs": [
    {
     "data": {
      "text/plain": [
       "array(['P00125942', 'P00110942', 'P00118542', ..., 'P00044742',\n",
       "       'P00296942', nan], dtype=object)"
      ]
     },
     "execution_count": 143,
     "metadata": {},
     "output_type": "execute_result"
    }
   ],
   "source": [
    "df['Product_ID'].unique()"
   ]
  },
  {
   "cell_type": "code",
   "execution_count": 144,
   "id": "34bbfaf0-8ecb-4b86-9b93-7e67142ab5c2",
   "metadata": {},
   "outputs": [
    {
     "data": {
      "text/plain": [
       "6"
      ]
     },
     "execution_count": 144,
     "metadata": {},
     "output_type": "execute_result"
    }
   ],
   "source": [
    "df['Marital_Status'].isnull().sum()"
   ]
  },
  {
   "cell_type": "markdown",
   "id": "0ba2562a-dc7a-4116-a0dc-834755f2df3b",
   "metadata": {},
   "source": [
    "### Data profiling\n",
    "1. **Amount**\n",
    "    - Need to change the data type from object to integer.\n",
    "    - the rows corresponding to null values should be dropped.\n",
    "    - Need to drop the rows corresponding to value 'abcds'.\n",
    "2. **Status & unnamed1**\n",
    "    - no data, should be dropped.\n",
    "3. **Orders**\n",
    "    - Null values has to be dropped\n",
    "    - there are outliers which can be removed.\n",
    "4. **State**\n",
    "    - Andhra\\xa0Pradesh & Nndhra\\xa0Pradesh should be replaced with  'Andhra Pradesh'\n",
    "    - Drop the rows corresponding to null values.\n",
    "5. **Zones**\n",
    "    - Drop the rows corresponding to null values\n",
    "    - Zentral should be replaced with 'Central'\n",
    "6. **Product_ID**\n",
    "    - Drop the values corresponding to null values\n",
    "7. **Marital_Status**\n",
    "    - Null values can be replaced with code\n",
    "    - Data type needs to be changed from objects to numeric\n",
    "8. **Age Group**\n",
    "    - low-high can be replaced with mode\n",
    "     - Null values can be replaced with mode\n",
    "10. **Product_Category**\n",
    "     - Null values can be dropped\n",
    "11. **Gender, Occupation**\n",
    "     - Null values can be replaced with mod\n",
    "        "
   ]
  },
  {
   "cell_type": "markdown",
   "id": "e443f618-0392-46d9-ab92-8c5e88753110",
   "metadata": {},
   "source": [
    "### Data cleaning"
   ]
  },
  {
   "cell_type": "markdown",
   "id": "7c1a8719-e93b-42da-b2e8-b28cda3ef013",
   "metadata": {},
   "source": [
    "#### Satus & Unnamed1"
   ]
  },
  {
   "cell_type": "code",
   "execution_count": 145,
   "id": "ce23b944-ddb7-46a9-a5b1-f24d76e6c16c",
   "metadata": {},
   "outputs": [
    {
     "data": {
      "text/html": [
       "<div>\n",
       "<style scoped>\n",
       "    .dataframe tbody tr th:only-of-type {\n",
       "        vertical-align: middle;\n",
       "    }\n",
       "\n",
       "    .dataframe tbody tr th {\n",
       "        vertical-align: top;\n",
       "    }\n",
       "\n",
       "    .dataframe thead th {\n",
       "        text-align: right;\n",
       "    }\n",
       "</style>\n",
       "<table border=\"1\" class=\"dataframe\">\n",
       "  <thead>\n",
       "    <tr style=\"text-align: right;\">\n",
       "      <th></th>\n",
       "      <th>User_ID</th>\n",
       "      <th>Cust_name</th>\n",
       "      <th>Product_ID</th>\n",
       "      <th>Gender</th>\n",
       "      <th>Age Group</th>\n",
       "      <th>Age</th>\n",
       "      <th>Marital_Status</th>\n",
       "      <th>State</th>\n",
       "      <th>Zone</th>\n",
       "      <th>Occupation</th>\n",
       "      <th>Product_Category</th>\n",
       "      <th>Orders</th>\n",
       "      <th>Amount</th>\n",
       "    </tr>\n",
       "  </thead>\n",
       "  <tbody>\n",
       "    <tr>\n",
       "      <th>0</th>\n",
       "      <td>1002903.0</td>\n",
       "      <td>Sanskriti</td>\n",
       "      <td>P00125942</td>\n",
       "      <td>F</td>\n",
       "      <td>26-35</td>\n",
       "      <td>28</td>\n",
       "      <td>0.0</td>\n",
       "      <td>Maharashtra</td>\n",
       "      <td>Western</td>\n",
       "      <td>Healthcare</td>\n",
       "      <td>Auto</td>\n",
       "      <td>1.0</td>\n",
       "      <td>23952</td>\n",
       "    </tr>\n",
       "    <tr>\n",
       "      <th>1</th>\n",
       "      <td>1000732.0</td>\n",
       "      <td>Kartik</td>\n",
       "      <td>P00110942</td>\n",
       "      <td>F</td>\n",
       "      <td>26-35</td>\n",
       "      <td>35</td>\n",
       "      <td>1.0</td>\n",
       "      <td>Andhra Pradesh</td>\n",
       "      <td>Southern</td>\n",
       "      <td>Govt</td>\n",
       "      <td>Auto</td>\n",
       "      <td>3.0</td>\n",
       "      <td>23934</td>\n",
       "    </tr>\n",
       "  </tbody>\n",
       "</table>\n",
       "</div>"
      ],
      "text/plain": [
       "     User_ID  Cust_name Product_ID Gender Age Group Age  Marital_Status  \\\n",
       "0  1002903.0  Sanskriti  P00125942      F     26-35  28             0.0   \n",
       "1  1000732.0     Kartik  P00110942      F     26-35  35             1.0   \n",
       "\n",
       "            State      Zone  Occupation Product_Category  Orders Amount  \n",
       "0     Maharashtra   Western  Healthcare             Auto     1.0  23952  \n",
       "1  Andhra Pradesh  Southern        Govt             Auto     3.0  23934  "
      ]
     },
     "execution_count": 145,
     "metadata": {},
     "output_type": "execute_result"
    }
   ],
   "source": [
    "#Dropping columns\n",
    "df.drop(['Status', 'unnamed1'],axis =1,inplace = True)\n",
    "df.head(2)"
   ]
  },
  {
   "cell_type": "markdown",
   "id": "8b5f8f15-a455-4746-96ff-32842c0415e0",
   "metadata": {},
   "source": [
    "#### Amount"
   ]
  },
  {
   "cell_type": "code",
   "execution_count": 146,
   "id": "0fad9c5b-9cf9-49a4-bd16-94ccdff77b90",
   "metadata": {},
   "outputs": [],
   "source": [
    "#changing the data type\n",
    "df['Amount'] = pd.to_numeric(df['Amount'], errors = 'coerce')\n",
    "#error = coerce will convert unsupported values into null values"
   ]
  },
  {
   "cell_type": "code",
   "execution_count": 147,
   "id": "3ae37452-7b7c-44a5-a7b1-085244f82a65",
   "metadata": {},
   "outputs": [],
   "source": [
    "#Dropping rows corresponding to null values in the columns : ['Amount' , 'Orders' , 'State' , 'Zone' ,' Product_ID ', 'Product_Category'] \n",
    "df.dropna(subset = ['Amount' , 'Orders' , 'State' , 'Zone' ,'Product_ID', 'Product_Category'] , inplace = True)"
   ]
  },
  {
   "cell_type": "markdown",
   "id": "cb9eb6f5-1163-4657-88f2-a2bba58c87af",
   "metadata": {},
   "source": [
    "#### State & Zone"
   ]
  },
  {
   "cell_type": "code",
   "execution_count": 148,
   "id": "609338a5-9b43-4cbb-b165-e59e15d072d9",
   "metadata": {},
   "outputs": [],
   "source": [
    "# replacing the type\n",
    "df['State'] = df['State'].str.replace('Andhra\\xa0Pradesh', 'Andhra Pradesh' )\n",
    "df['State'] = df['State'].str.replace('Nndhra\\xa0Pradesh', 'Andhra Pradesh' )\n",
    "df['Zone'] = df['Zone'].str.replace('Zentral', 'Central')"
   ]
  },
  {
   "cell_type": "markdown",
   "id": "d5350686-84d0-4526-8a0b-1ef3151b3cf9",
   "metadata": {},
   "source": [
    "##### Procduct_ID \n",
    "clearned already"
   ]
  },
  {
   "cell_type": "markdown",
   "id": "10fe656f-1228-4747-a966-7ab23efae42b",
   "metadata": {},
   "source": [
    "#### Marital_Status"
   ]
  },
  {
   "cell_type": "code",
   "execution_count": 149,
   "id": "25b7df4b-9015-40e8-8898-ae754a05be2e",
   "metadata": {},
   "outputs": [],
   "source": [
    "#replacing the null values with mode\n",
    "marital_status_mode = df['Marital_Status'].mode()[0]\n",
    "marital_status_mode\n",
    "\n",
    "df['Marital_Status'] = df['Marital_Status'].fillna(marital_status_mode)"
   ]
  },
  {
   "cell_type": "code",
   "execution_count": 150,
   "id": "e4b4955e-dd10-45ee-b9af-5612fd26b99d",
   "metadata": {},
   "outputs": [
    {
     "data": {
      "text/plain": [
       "0"
      ]
     },
     "execution_count": 150,
     "metadata": {},
     "output_type": "execute_result"
    }
   ],
   "source": [
    "df['Marital_Status'].isna().sum()"
   ]
  },
  {
   "cell_type": "code",
   "execution_count": 151,
   "id": "b48d55ac-201f-4c9f-a9d5-068c1fb81423",
   "metadata": {},
   "outputs": [],
   "source": [
    "#Creating a new column with marital_status\n",
    "df['marraige_status'] =df['Marital_Status'].apply(lambda x: 'Married' if (x==1.) else 'Unmarried')"
   ]
  },
  {
   "cell_type": "code",
   "execution_count": 152,
   "id": "035d70ed-f21e-4078-a6cb-9cbbcb110724",
   "metadata": {},
   "outputs": [
    {
     "data": {
      "text/html": [
       "<div>\n",
       "<style scoped>\n",
       "    .dataframe tbody tr th:only-of-type {\n",
       "        vertical-align: middle;\n",
       "    }\n",
       "\n",
       "    .dataframe tbody tr th {\n",
       "        vertical-align: top;\n",
       "    }\n",
       "\n",
       "    .dataframe thead th {\n",
       "        text-align: right;\n",
       "    }\n",
       "</style>\n",
       "<table border=\"1\" class=\"dataframe\">\n",
       "  <thead>\n",
       "    <tr style=\"text-align: right;\">\n",
       "      <th></th>\n",
       "      <th>User_ID</th>\n",
       "      <th>Cust_name</th>\n",
       "      <th>Product_ID</th>\n",
       "      <th>Gender</th>\n",
       "      <th>Age Group</th>\n",
       "      <th>Age</th>\n",
       "      <th>Marital_Status</th>\n",
       "      <th>State</th>\n",
       "      <th>Zone</th>\n",
       "      <th>Occupation</th>\n",
       "      <th>Product_Category</th>\n",
       "      <th>Orders</th>\n",
       "      <th>Amount</th>\n",
       "      <th>marraige_status</th>\n",
       "    </tr>\n",
       "  </thead>\n",
       "  <tbody>\n",
       "    <tr>\n",
       "      <th>0</th>\n",
       "      <td>1002903.0</td>\n",
       "      <td>Sanskriti</td>\n",
       "      <td>P00125942</td>\n",
       "      <td>F</td>\n",
       "      <td>26-35</td>\n",
       "      <td>28</td>\n",
       "      <td>0.0</td>\n",
       "      <td>Maharashtra</td>\n",
       "      <td>Western</td>\n",
       "      <td>Healthcare</td>\n",
       "      <td>Auto</td>\n",
       "      <td>1.0</td>\n",
       "      <td>23952.0</td>\n",
       "      <td>Unmarried</td>\n",
       "    </tr>\n",
       "    <tr>\n",
       "      <th>1</th>\n",
       "      <td>1000732.0</td>\n",
       "      <td>Kartik</td>\n",
       "      <td>P00110942</td>\n",
       "      <td>F</td>\n",
       "      <td>26-35</td>\n",
       "      <td>35</td>\n",
       "      <td>1.0</td>\n",
       "      <td>Andhra Pradesh</td>\n",
       "      <td>Southern</td>\n",
       "      <td>Govt</td>\n",
       "      <td>Auto</td>\n",
       "      <td>3.0</td>\n",
       "      <td>23934.0</td>\n",
       "      <td>Married</td>\n",
       "    </tr>\n",
       "  </tbody>\n",
       "</table>\n",
       "</div>"
      ],
      "text/plain": [
       "     User_ID  Cust_name Product_ID Gender Age Group Age  Marital_Status  \\\n",
       "0  1002903.0  Sanskriti  P00125942      F     26-35  28             0.0   \n",
       "1  1000732.0     Kartik  P00110942      F     26-35  35             1.0   \n",
       "\n",
       "            State      Zone  Occupation Product_Category  Orders   Amount  \\\n",
       "0     Maharashtra   Western  Healthcare             Auto     1.0  23952.0   \n",
       "1  Andhra Pradesh  Southern        Govt             Auto     3.0  23934.0   \n",
       "\n",
       "  marraige_status  \n",
       "0       Unmarried  \n",
       "1         Married  "
      ]
     },
     "execution_count": 152,
     "metadata": {},
     "output_type": "execute_result"
    }
   ],
   "source": [
    "df.head(2)"
   ]
  },
  {
   "cell_type": "markdown",
   "id": "ad3880df-e102-4cb9-9638-cc4f8a395f67",
   "metadata": {},
   "source": [
    "#### Age"
   ]
  },
  {
   "cell_type": "code",
   "execution_count": 153,
   "id": "bd8b9e7e-0c72-48f9-a6f4-9079e7602376",
   "metadata": {},
   "outputs": [],
   "source": [
    "#changing the data type from object to numeric\n",
    "df['Age'] =pd.to_numeric(df['Age'], errors ='coerce')"
   ]
  },
  {
   "cell_type": "code",
   "execution_count": 154,
   "id": "3ae20cfe-a611-4d89-babd-a75bbc618d47",
   "metadata": {},
   "outputs": [],
   "source": [
    "#replace the null values with mode\n",
    "age_mode = df['Age'].mode()[0]\n",
    "df['Age'] = df['Age'].fillna(age_mode)"
   ]
  },
  {
   "cell_type": "code",
   "execution_count": 155,
   "id": "143a4ddf-b161-45e8-911f-c3c7b84ddffa",
   "metadata": {},
   "outputs": [
    {
     "data": {
      "text/plain": [
       "0"
      ]
     },
     "execution_count": 155,
     "metadata": {},
     "output_type": "execute_result"
    }
   ],
   "source": [
    "df['Age'].isnull().sum()"
   ]
  },
  {
   "cell_type": "markdown",
   "id": "f2b15e6d-31de-4e36-b3fb-57b4d750734d",
   "metadata": {},
   "source": [
    "#### Age Group"
   ]
  },
  {
   "cell_type": "code",
   "execution_count": 156,
   "id": "6947edc0-5f86-472f-bebe-5e5fd723c773",
   "metadata": {},
   "outputs": [],
   "source": [
    "#replacing null value and typo with mode\n",
    "age_group_mode = df['Age Group'].mode()[0]\n",
    "age_group_mode\n",
    "df['Age Group'] =df['Age Group'].str.replace('low-high', age_group_mode)\n",
    "df['Age Group'] =df['Age Group'].fillna(age_group_mode)\n"
   ]
  },
  {
   "cell_type": "code",
   "execution_count": 157,
   "id": "d047c374-3674-488b-b12d-75d1d10c654a",
   "metadata": {},
   "outputs": [
    {
     "data": {
      "text/plain": [
       "array(['26-35', '0-17', '18-25', '51-55', '55+', '36-45', '46-50'],\n",
       "      dtype=object)"
      ]
     },
     "execution_count": 157,
     "metadata": {},
     "output_type": "execute_result"
    }
   ],
   "source": [
    "df['Age Group'].unique()"
   ]
  },
  {
   "cell_type": "code",
   "execution_count": 158,
   "id": "fbe2dd8c-73fa-4437-838f-2254696076d7",
   "metadata": {},
   "outputs": [
    {
     "data": {
      "text/plain": [
       "0"
      ]
     },
     "execution_count": 158,
     "metadata": {},
     "output_type": "execute_result"
    }
   ],
   "source": [
    "df['Age Group'].isna().sum()"
   ]
  },
  {
   "cell_type": "markdown",
   "id": "9ceb6c07-3753-427a-a896-4515a7626785",
   "metadata": {},
   "source": [
    "#### Product category\n",
    "already executed"
   ]
  },
  {
   "cell_type": "markdown",
   "id": "ff45af0c-a219-4deb-b5be-c35fcb3c7636",
   "metadata": {},
   "source": [
    "#### User_ID, Gender & Occupation"
   ]
  },
  {
   "cell_type": "code",
   "execution_count": 159,
   "id": "cdd79ccb-016b-4f50-82c1-0e11633c5fc2",
   "metadata": {},
   "outputs": [],
   "source": [
    "#replacing null values with mode\n",
    "gender_mode = df['Gender'].mode()[0]\n",
    "occupation_mode = df['Occupation'].mode()[0]\n",
    "user_id_mode=df['User_ID'].mode()[0]\n",
    "\n",
    "df['Gender'] =df['Gender'].fillna(gender_mode)\n",
    "df['Occupation'] =df['Occupation'].fillna(occupation_mode)\n",
    "df['User_ID'] =df['User_ID'].fillna(user_id_mode)\n"
   ]
  },
  {
   "cell_type": "code",
   "execution_count": 160,
   "id": "ba54e333-98d1-4f56-b1f4-e1e41bf936bf",
   "metadata": {},
   "outputs": [
    {
     "name": "stdout",
     "output_type": "stream",
     "text": [
      "<class 'pandas.core.frame.DataFrame'>\n",
      "Index: 11254 entries, 0 to 11340\n",
      "Data columns (total 14 columns):\n",
      " #   Column            Non-Null Count  Dtype  \n",
      "---  ------            --------------  -----  \n",
      " 0   User_ID           11254 non-null  float64\n",
      " 1   Cust_name         11254 non-null  object \n",
      " 2   Product_ID        11254 non-null  object \n",
      " 3   Gender            11254 non-null  object \n",
      " 4   Age Group         11254 non-null  object \n",
      " 5   Age               11254 non-null  float64\n",
      " 6   Marital_Status    11254 non-null  float64\n",
      " 7   State             11254 non-null  object \n",
      " 8   Zone              11254 non-null  object \n",
      " 9   Occupation        11254 non-null  object \n",
      " 10  Product_Category  11254 non-null  object \n",
      " 11  Orders            11254 non-null  float64\n",
      " 12  Amount            11254 non-null  float64\n",
      " 13  marraige_status   11254 non-null  object \n",
      "dtypes: float64(5), object(9)\n",
      "memory usage: 1.3+ MB\n"
     ]
    }
   ],
   "source": [
    "df.info()"
   ]
  },
  {
   "cell_type": "code",
   "execution_count": 161,
   "id": "de598e40-784a-4373-b9e0-2a7c38153387",
   "metadata": {},
   "outputs": [
    {
     "data": {
      "text/plain": [
       "User_ID             0\n",
       "Cust_name           0\n",
       "Product_ID          0\n",
       "Gender              0\n",
       "Age Group           0\n",
       "Age                 0\n",
       "Marital_Status      0\n",
       "State               0\n",
       "Zone                0\n",
       "Occupation          0\n",
       "Product_Category    0\n",
       "Orders              0\n",
       "Amount              0\n",
       "marraige_status     0\n",
       "dtype: int64"
      ]
     },
     "execution_count": 161,
     "metadata": {},
     "output_type": "execute_result"
    }
   ],
   "source": [
    "df.isna().sum()"
   ]
  },
  {
   "cell_type": "code",
   "execution_count": null,
   "id": "6c49c582-2256-4117-b96c-0d9333571cd5",
   "metadata": {},
   "outputs": [],
   "source": []
  },
  {
   "cell_type": "code",
   "execution_count": 162,
   "id": "45966c70-ba42-4bea-a15d-aada01312905",
   "metadata": {},
   "outputs": [
    {
     "data": {
      "text/plain": [
       "Text(0.5, 1.0, \"Box plot for 'Amount'\")"
      ]
     },
     "execution_count": 162,
     "metadata": {},
     "output_type": "execute_result"
    },
    {
     "data": {
      "image/png": "[encoded data removed]",
      "text/plain": [
       "<Figure size 1000x600 with 2 Axes>"
      ]
     },
     "metadata": {},
     "output_type": "display_data"
    }
   ],
   "source": [
    "# Visulaization of outliers\n",
    "fig,ax = plt.subplots(1,2, figsize = (10,6))\n",
    "sns.boxplot(data = df['Orders'], ax = ax[0])\n",
    "ax[0].set_title(\"Box plot for 'Orders'\")\n",
    "\n",
    "sns.boxplot(data = df['Amount'], ax = ax[1])\n",
    "ax[1].set_title(\"Box plot for 'Amount'\")"
   ]
  },
  {
   "cell_type": "markdown",
   "id": "40c3f878-296e-44d1-aab5-77698640589e",
   "metadata": {},
   "source": [
    "#### Order"
   ]
  },
  {
   "cell_type": "code",
   "execution_count": 163,
   "id": "0ef6d260-91c5-4dc1-93bc-2daad813d0e1",
   "metadata": {},
   "outputs": [],
   "source": [
    "# Quartile\n",
    "Q1_order = np.quantile(df['Orders'], 0.25)\n",
    "Q3_order = np.quantile(df['Orders'], 0.75)\n",
    "IQR_order = Q3_order - Q1_order\n",
    "#IQR_order\n",
    "lower_limit_order = Q1_order - 1.5*IQR_order\n",
    "upper_limit_order = Q3_order + 1.5*IQR_order"
   ]
  },
  {
   "cell_type": "code",
   "execution_count": 164,
   "id": "9bce6af0-fda3-48c4-85bc-94c1951cb386",
   "metadata": {},
   "outputs": [
    {
     "name": "stdout",
     "output_type": "stream",
     "text": [
      "0.5\n",
      "4.5\n"
     ]
    }
   ],
   "source": [
    "print(lower_limit_order)\n",
    "print(upper_limit_order)"
   ]
  },
  {
   "cell_type": "code",
   "execution_count": 165,
   "id": "437b6b22-063a-4410-928c-37ea90a57e54",
   "metadata": {},
   "outputs": [
    {
     "data": {
      "text/html": [
       "<div>\n",
       "<style scoped>\n",
       "    .dataframe tbody tr th:only-of-type {\n",
       "        vertical-align: middle;\n",
       "    }\n",
       "\n",
       "    .dataframe tbody tr th {\n",
       "        vertical-align: top;\n",
       "    }\n",
       "\n",
       "    .dataframe thead th {\n",
       "        text-align: right;\n",
       "    }\n",
       "</style>\n",
       "<table border=\"1\" class=\"dataframe\">\n",
       "  <thead>\n",
       "    <tr style=\"text-align: right;\">\n",
       "      <th></th>\n",
       "      <th>User_ID</th>\n",
       "      <th>Cust_name</th>\n",
       "      <th>Product_ID</th>\n",
       "      <th>Gender</th>\n",
       "      <th>Age Group</th>\n",
       "      <th>Age</th>\n",
       "      <th>Marital_Status</th>\n",
       "      <th>State</th>\n",
       "      <th>Zone</th>\n",
       "      <th>Occupation</th>\n",
       "      <th>Product_Category</th>\n",
       "      <th>Orders</th>\n",
       "      <th>Amount</th>\n",
       "      <th>marraige_status</th>\n",
       "    </tr>\n",
       "  </thead>\n",
       "  <tbody>\n",
       "    <tr>\n",
       "      <th>0</th>\n",
       "      <td>1002903.0</td>\n",
       "      <td>Sanskriti</td>\n",
       "      <td>P00125942</td>\n",
       "      <td>F</td>\n",
       "      <td>26-35</td>\n",
       "      <td>28.0</td>\n",
       "      <td>0.0</td>\n",
       "      <td>Maharashtra</td>\n",
       "      <td>Western</td>\n",
       "      <td>Healthcare</td>\n",
       "      <td>Auto</td>\n",
       "      <td>1.0</td>\n",
       "      <td>23952.0</td>\n",
       "      <td>Unmarried</td>\n",
       "    </tr>\n",
       "    <tr>\n",
       "      <th>1</th>\n",
       "      <td>1000732.0</td>\n",
       "      <td>Kartik</td>\n",
       "      <td>P00110942</td>\n",
       "      <td>F</td>\n",
       "      <td>26-35</td>\n",
       "      <td>35.0</td>\n",
       "      <td>1.0</td>\n",
       "      <td>Andhra Pradesh</td>\n",
       "      <td>Southern</td>\n",
       "      <td>Govt</td>\n",
       "      <td>Auto</td>\n",
       "      <td>3.0</td>\n",
       "      <td>23934.0</td>\n",
       "      <td>Married</td>\n",
       "    </tr>\n",
       "    <tr>\n",
       "      <th>2</th>\n",
       "      <td>1001990.0</td>\n",
       "      <td>Bindu</td>\n",
       "      <td>P00118542</td>\n",
       "      <td>F</td>\n",
       "      <td>26-35</td>\n",
       "      <td>35.0</td>\n",
       "      <td>1.0</td>\n",
       "      <td>Uttar Pradesh</td>\n",
       "      <td>Central</td>\n",
       "      <td>Automobile</td>\n",
       "      <td>Auto</td>\n",
       "      <td>3.0</td>\n",
       "      <td>23924.0</td>\n",
       "      <td>Married</td>\n",
       "    </tr>\n",
       "    <tr>\n",
       "      <th>3</th>\n",
       "      <td>1001425.0</td>\n",
       "      <td>Sudevi</td>\n",
       "      <td>P00237842</td>\n",
       "      <td>M</td>\n",
       "      <td>0-17</td>\n",
       "      <td>16.0</td>\n",
       "      <td>0.0</td>\n",
       "      <td>Karnataka</td>\n",
       "      <td>Southern</td>\n",
       "      <td>Construction</td>\n",
       "      <td>Auto</td>\n",
       "      <td>2.0</td>\n",
       "      <td>23912.0</td>\n",
       "      <td>Unmarried</td>\n",
       "    </tr>\n",
       "    <tr>\n",
       "      <th>4</th>\n",
       "      <td>1000588.0</td>\n",
       "      <td>Joni</td>\n",
       "      <td>P00057942</td>\n",
       "      <td>M</td>\n",
       "      <td>26-35</td>\n",
       "      <td>28.0</td>\n",
       "      <td>1.0</td>\n",
       "      <td>Gujarat</td>\n",
       "      <td>Western</td>\n",
       "      <td>Food Processing</td>\n",
       "      <td>Auto</td>\n",
       "      <td>2.0</td>\n",
       "      <td>23877.0</td>\n",
       "      <td>Married</td>\n",
       "    </tr>\n",
       "  </tbody>\n",
       "</table>\n",
       "</div>"
      ],
      "text/plain": [
       "     User_ID  Cust_name Product_ID Gender Age Group   Age  Marital_Status  \\\n",
       "0  1002903.0  Sanskriti  P00125942      F     26-35  28.0             0.0   \n",
       "1  1000732.0     Kartik  P00110942      F     26-35  35.0             1.0   \n",
       "2  1001990.0      Bindu  P00118542      F     26-35  35.0             1.0   \n",
       "3  1001425.0     Sudevi  P00237842      M      0-17  16.0             0.0   \n",
       "4  1000588.0       Joni  P00057942      M     26-35  28.0             1.0   \n",
       "\n",
       "            State      Zone       Occupation Product_Category  Orders  \\\n",
       "0     Maharashtra   Western       Healthcare             Auto     1.0   \n",
       "1  Andhra Pradesh  Southern             Govt             Auto     3.0   \n",
       "2   Uttar Pradesh   Central       Automobile             Auto     3.0   \n",
       "3       Karnataka  Southern     Construction             Auto     2.0   \n",
       "4         Gujarat   Western  Food Processing             Auto     2.0   \n",
       "\n",
       "    Amount marraige_status  \n",
       "0  23952.0       Unmarried  \n",
       "1  23934.0         Married  \n",
       "2  23924.0         Married  \n",
       "3  23912.0       Unmarried  \n",
       "4  23877.0         Married  "
      ]
     },
     "execution_count": 165,
     "metadata": {},
     "output_type": "execute_result"
    }
   ],
   "source": [
    "# Removing the outliers\n",
    "df = df[(df['Orders'] > lower_limit_order) & (df['Orders'] < upper_limit_order)]\n",
    "df.head()\n"
   ]
  },
  {
   "cell_type": "code",
   "execution_count": 166,
   "id": "4a12cd19-0285-43dd-ada7-b1f109540537",
   "metadata": {},
   "outputs": [
    {
     "data": {
      "text/html": [
       "<div>\n",
       "<style scoped>\n",
       "    .dataframe tbody tr th:only-of-type {\n",
       "        vertical-align: middle;\n",
       "    }\n",
       "\n",
       "    .dataframe tbody tr th {\n",
       "        vertical-align: top;\n",
       "    }\n",
       "\n",
       "    .dataframe thead th {\n",
       "        text-align: right;\n",
       "    }\n",
       "</style>\n",
       "<table border=\"1\" class=\"dataframe\">\n",
       "  <thead>\n",
       "    <tr style=\"text-align: right;\">\n",
       "      <th></th>\n",
       "      <th>User_ID</th>\n",
       "      <th>Age</th>\n",
       "      <th>Marital_Status</th>\n",
       "      <th>Orders</th>\n",
       "      <th>Amount</th>\n",
       "    </tr>\n",
       "  </thead>\n",
       "  <tbody>\n",
       "    <tr>\n",
       "      <th>count</th>\n",
       "      <td>1.125200e+04</td>\n",
       "      <td>11252.000000</td>\n",
       "      <td>11252.000000</td>\n",
       "      <td>11252.000000</td>\n",
       "      <td>1.125200e+04</td>\n",
       "    </tr>\n",
       "    <tr>\n",
       "      <th>mean</th>\n",
       "      <td>1.011889e+06</td>\n",
       "      <td>35.423303</td>\n",
       "      <td>0.419836</td>\n",
       "      <td>2.488891</td>\n",
       "      <td>1.917000e+05</td>\n",
       "    </tr>\n",
       "    <tr>\n",
       "      <th>std</th>\n",
       "      <td>2.979871e+05</td>\n",
       "      <td>12.753743</td>\n",
       "      <td>0.493554</td>\n",
       "      <td>1.114844</td>\n",
       "      <td>1.073001e+07</td>\n",
       "    </tr>\n",
       "    <tr>\n",
       "      <th>min</th>\n",
       "      <td>1.000001e+06</td>\n",
       "      <td>12.000000</td>\n",
       "      <td>0.000000</td>\n",
       "      <td>1.000000</td>\n",
       "      <td>1.880000e+02</td>\n",
       "    </tr>\n",
       "    <tr>\n",
       "      <th>25%</th>\n",
       "      <td>1.001496e+06</td>\n",
       "      <td>27.000000</td>\n",
       "      <td>0.000000</td>\n",
       "      <td>2.000000</td>\n",
       "      <td>5.444750e+03</td>\n",
       "    </tr>\n",
       "    <tr>\n",
       "      <th>50%</th>\n",
       "      <td>1.003064e+06</td>\n",
       "      <td>33.000000</td>\n",
       "      <td>0.000000</td>\n",
       "      <td>2.000000</td>\n",
       "      <td>8.113000e+03</td>\n",
       "    </tr>\n",
       "    <tr>\n",
       "      <th>75%</th>\n",
       "      <td>1.004429e+06</td>\n",
       "      <td>43.000000</td>\n",
       "      <td>1.000000</td>\n",
       "      <td>3.000000</td>\n",
       "      <td>1.269900e+04</td>\n",
       "    </tr>\n",
       "    <tr>\n",
       "      <th>max</th>\n",
       "      <td>1.100505e+07</td>\n",
       "      <td>92.000000</td>\n",
       "      <td>1.000000</td>\n",
       "      <td>4.000000</td>\n",
       "      <td>8.760212e+08</td>\n",
       "    </tr>\n",
       "  </tbody>\n",
       "</table>\n",
       "</div>"
      ],
      "text/plain": [
       "            User_ID           Age  Marital_Status        Orders        Amount\n",
       "count  1.125200e+04  11252.000000    11252.000000  11252.000000  1.125200e+04\n",
       "mean   1.011889e+06     35.423303        0.419836      2.488891  1.917000e+05\n",
       "std    2.979871e+05     12.753743        0.493554      1.114844  1.073001e+07\n",
       "min    1.000001e+06     12.000000        0.000000      1.000000  1.880000e+02\n",
       "25%    1.001496e+06     27.000000        0.000000      2.000000  5.444750e+03\n",
       "50%    1.003064e+06     33.000000        0.000000      2.000000  8.113000e+03\n",
       "75%    1.004429e+06     43.000000        1.000000      3.000000  1.269900e+04\n",
       "max    1.100505e+07     92.000000        1.000000      4.000000  8.760212e+08"
      ]
     },
     "execution_count": 166,
     "metadata": {},
     "output_type": "execute_result"
    }
   ],
   "source": [
    "df.describe()"
   ]
  },
  {
   "cell_type": "markdown",
   "id": "09c14ed7-5173-4aa5-8b10-b178f30cd0af",
   "metadata": {},
   "source": [
    "#### Amount\n"
   ]
  },
  {
   "cell_type": "code",
   "execution_count": 167,
   "id": "94dc9d63-67fe-445b-b8fc-5d77f3059c5b",
   "metadata": {},
   "outputs": [
    {
     "name": "stdout",
     "output_type": "stream",
     "text": [
      "-5436.625\n",
      "23580.375\n"
     ]
    }
   ],
   "source": [
    "# Quartile\n",
    "Q1_amount = np.quantile(df['Amount'], 0.25)\n",
    "Q3_amount = np.quantile(df['Amount'], 0.75)\n",
    "IQR_amount = Q3_amount - Q1_amount\n",
    "#IQR_order\n",
    "lower_limit_amount = Q1_amount - 1.5*IQR_amount\n",
    "upper_limit_amount = Q3_amount + 1.5*IQR_amount\n",
    "print(lower_limit_amount)\n",
    "print(upper_limit_amount)\n"
   ]
  },
  {
   "cell_type": "code",
   "execution_count": 168,
   "id": "deb8f72a-1aa7-4e6f-adb3-107401a419d6",
   "metadata": {},
   "outputs": [
    {
     "data": {
      "text/html": [
       "<div>\n",
       "<style scoped>\n",
       "    .dataframe tbody tr th:only-of-type {\n",
       "        vertical-align: middle;\n",
       "    }\n",
       "\n",
       "    .dataframe tbody tr th {\n",
       "        vertical-align: top;\n",
       "    }\n",
       "\n",
       "    .dataframe thead th {\n",
       "        text-align: right;\n",
       "    }\n",
       "</style>\n",
       "<table border=\"1\" class=\"dataframe\">\n",
       "  <thead>\n",
       "    <tr style=\"text-align: right;\">\n",
       "      <th></th>\n",
       "      <th>User_ID</th>\n",
       "      <th>Cust_name</th>\n",
       "      <th>Product_ID</th>\n",
       "      <th>Gender</th>\n",
       "      <th>Age Group</th>\n",
       "      <th>Age</th>\n",
       "      <th>Marital_Status</th>\n",
       "      <th>State</th>\n",
       "      <th>Zone</th>\n",
       "      <th>Occupation</th>\n",
       "      <th>Product_Category</th>\n",
       "      <th>Orders</th>\n",
       "      <th>Amount</th>\n",
       "      <th>marraige_status</th>\n",
       "    </tr>\n",
       "  </thead>\n",
       "  <tbody>\n",
       "    <tr>\n",
       "      <th>18</th>\n",
       "      <td>1001883.0</td>\n",
       "      <td>Praneet</td>\n",
       "      <td>P00029842</td>\n",
       "      <td>M</td>\n",
       "      <td>26-35</td>\n",
       "      <td>54.0</td>\n",
       "      <td>1.0</td>\n",
       "      <td>Uttar Pradesh</td>\n",
       "      <td>Central</td>\n",
       "      <td>Hospitality</td>\n",
       "      <td>Auto</td>\n",
       "      <td>1.0</td>\n",
       "      <td>23568.0</td>\n",
       "      <td>Married</td>\n",
       "    </tr>\n",
       "    <tr>\n",
       "      <th>19</th>\n",
       "      <td>1001883.0</td>\n",
       "      <td>Praneet</td>\n",
       "      <td>P00029842</td>\n",
       "      <td>M</td>\n",
       "      <td>26-35</td>\n",
       "      <td>54.0</td>\n",
       "      <td>1.0</td>\n",
       "      <td>Uttar Pradesh</td>\n",
       "      <td>Central</td>\n",
       "      <td>Hospitality</td>\n",
       "      <td>Auto</td>\n",
       "      <td>1.0</td>\n",
       "      <td>23568.0</td>\n",
       "      <td>Married</td>\n",
       "    </tr>\n",
       "    <tr>\n",
       "      <th>20</th>\n",
       "      <td>1000113.0</td>\n",
       "      <td>Ellis</td>\n",
       "      <td>P00180642</td>\n",
       "      <td>F</td>\n",
       "      <td>26-35</td>\n",
       "      <td>19.0</td>\n",
       "      <td>1.0</td>\n",
       "      <td>Andhra Pradesh</td>\n",
       "      <td>Southern</td>\n",
       "      <td>Govt</td>\n",
       "      <td>Auto</td>\n",
       "      <td>4.0</td>\n",
       "      <td>23546.0</td>\n",
       "      <td>Married</td>\n",
       "    </tr>\n",
       "    <tr>\n",
       "      <th>21</th>\n",
       "      <td>1000416.0</td>\n",
       "      <td>Hrisheekesh</td>\n",
       "      <td>P00181842</td>\n",
       "      <td>F</td>\n",
       "      <td>26-35</td>\n",
       "      <td>46.0</td>\n",
       "      <td>1.0</td>\n",
       "      <td>Uttar Pradesh</td>\n",
       "      <td>Central</td>\n",
       "      <td>Banking</td>\n",
       "      <td>Auto</td>\n",
       "      <td>2.0</td>\n",
       "      <td>23525.0</td>\n",
       "      <td>Married</td>\n",
       "    </tr>\n",
       "    <tr>\n",
       "      <th>22</th>\n",
       "      <td>1005256.0</td>\n",
       "      <td>Grant</td>\n",
       "      <td>P00101742</td>\n",
       "      <td>F</td>\n",
       "      <td>26-35</td>\n",
       "      <td>30.0</td>\n",
       "      <td>0.0</td>\n",
       "      <td>Andhra Pradesh</td>\n",
       "      <td>Southern</td>\n",
       "      <td>IT Sector</td>\n",
       "      <td>Auto</td>\n",
       "      <td>1.0</td>\n",
       "      <td>23518.0</td>\n",
       "      <td>Unmarried</td>\n",
       "    </tr>\n",
       "  </tbody>\n",
       "</table>\n",
       "</div>"
      ],
      "text/plain": [
       "      User_ID    Cust_name Product_ID Gender Age Group   Age  Marital_Status  \\\n",
       "18  1001883.0      Praneet  P00029842      M     26-35  54.0             1.0   \n",
       "19  1001883.0      Praneet  P00029842      M     26-35  54.0             1.0   \n",
       "20  1000113.0        Ellis  P00180642      F     26-35  19.0             1.0   \n",
       "21  1000416.0  Hrisheekesh  P00181842      F     26-35  46.0             1.0   \n",
       "22  1005256.0        Grant  P00101742      F     26-35  30.0             0.0   \n",
       "\n",
       "             State      Zone   Occupation Product_Category  Orders   Amount  \\\n",
       "18   Uttar Pradesh   Central  Hospitality             Auto     1.0  23568.0   \n",
       "19   Uttar Pradesh   Central  Hospitality             Auto     1.0  23568.0   \n",
       "20  Andhra Pradesh  Southern         Govt             Auto     4.0  23546.0   \n",
       "21   Uttar Pradesh   Central      Banking             Auto     2.0  23525.0   \n",
       "22  Andhra Pradesh  Southern    IT Sector             Auto     1.0  23518.0   \n",
       "\n",
       "   marraige_status  \n",
       "18         Married  \n",
       "19         Married  \n",
       "20         Married  \n",
       "21         Married  \n",
       "22       Unmarried  "
      ]
     },
     "execution_count": 168,
     "metadata": {},
     "output_type": "execute_result"
    }
   ],
   "source": [
    "df = df[(df['Amount'] > lower_limit_amount) & (df['Amount'] < upper_limit_amount)]\n",
    "df.head()"
   ]
  },
  {
   "cell_type": "code",
   "execution_count": 169,
   "id": "643527b1-6d1f-4711-b86a-5c11e3a56b6d",
   "metadata": {},
   "outputs": [
    {
     "data": {
      "text/html": [
       "<div>\n",
       "<style scoped>\n",
       "    .dataframe tbody tr th:only-of-type {\n",
       "        vertical-align: middle;\n",
       "    }\n",
       "\n",
       "    .dataframe tbody tr th {\n",
       "        vertical-align: top;\n",
       "    }\n",
       "\n",
       "    .dataframe thead th {\n",
       "        text-align: right;\n",
       "    }\n",
       "</style>\n",
       "<table border=\"1\" class=\"dataframe\">\n",
       "  <thead>\n",
       "    <tr style=\"text-align: right;\">\n",
       "      <th></th>\n",
       "      <th>User_ID</th>\n",
       "      <th>Age</th>\n",
       "      <th>Marital_Status</th>\n",
       "      <th>Orders</th>\n",
       "      <th>Amount</th>\n",
       "    </tr>\n",
       "  </thead>\n",
       "  <tbody>\n",
       "    <tr>\n",
       "      <th>count</th>\n",
       "      <td>1.123400e+04</td>\n",
       "      <td>11234.000000</td>\n",
       "      <td>11234.000000</td>\n",
       "      <td>11234.000000</td>\n",
       "      <td>11234.000000</td>\n",
       "    </tr>\n",
       "    <tr>\n",
       "      <th>mean</th>\n",
       "      <td>1.007453e+06</td>\n",
       "      <td>35.433772</td>\n",
       "      <td>0.419708</td>\n",
       "      <td>2.489496</td>\n",
       "      <td>9452.764638</td>\n",
       "    </tr>\n",
       "    <tr>\n",
       "      <th>std</th>\n",
       "      <td>2.109026e+05</td>\n",
       "      <td>12.759432</td>\n",
       "      <td>0.493533</td>\n",
       "      <td>1.114845</td>\n",
       "      <td>5213.784648</td>\n",
       "    </tr>\n",
       "    <tr>\n",
       "      <th>min</th>\n",
       "      <td>1.000001e+06</td>\n",
       "      <td>12.000000</td>\n",
       "      <td>0.000000</td>\n",
       "      <td>1.000000</td>\n",
       "      <td>188.000000</td>\n",
       "    </tr>\n",
       "    <tr>\n",
       "      <th>25%</th>\n",
       "      <td>1.001496e+06</td>\n",
       "      <td>27.000000</td>\n",
       "      <td>0.000000</td>\n",
       "      <td>2.000000</td>\n",
       "      <td>5443.000000</td>\n",
       "    </tr>\n",
       "    <tr>\n",
       "      <th>50%</th>\n",
       "      <td>1.003064e+06</td>\n",
       "      <td>33.000000</td>\n",
       "      <td>0.000000</td>\n",
       "      <td>2.000000</td>\n",
       "      <td>8109.500000</td>\n",
       "    </tr>\n",
       "    <tr>\n",
       "      <th>75%</th>\n",
       "      <td>1.004429e+06</td>\n",
       "      <td>43.000000</td>\n",
       "      <td>1.000000</td>\n",
       "      <td>3.000000</td>\n",
       "      <td>12681.500000</td>\n",
       "    </tr>\n",
       "    <tr>\n",
       "      <th>max</th>\n",
       "      <td>1.100173e+07</td>\n",
       "      <td>92.000000</td>\n",
       "      <td>1.000000</td>\n",
       "      <td>4.000000</td>\n",
       "      <td>23568.000000</td>\n",
       "    </tr>\n",
       "  </tbody>\n",
       "</table>\n",
       "</div>"
      ],
      "text/plain": [
       "            User_ID           Age  Marital_Status        Orders        Amount\n",
       "count  1.123400e+04  11234.000000    11234.000000  11234.000000  11234.000000\n",
       "mean   1.007453e+06     35.433772        0.419708      2.489496   9452.764638\n",
       "std    2.109026e+05     12.759432        0.493533      1.114845   5213.784648\n",
       "min    1.000001e+06     12.000000        0.000000      1.000000    188.000000\n",
       "25%    1.001496e+06     27.000000        0.000000      2.000000   5443.000000\n",
       "50%    1.003064e+06     33.000000        0.000000      2.000000   8109.500000\n",
       "75%    1.004429e+06     43.000000        1.000000      3.000000  12681.500000\n",
       "max    1.100173e+07     92.000000        1.000000      4.000000  23568.000000"
      ]
     },
     "execution_count": 169,
     "metadata": {},
     "output_type": "execute_result"
    }
   ],
   "source": [
    "df.describe()"
   ]
  },
  {
   "cell_type": "code",
   "execution_count": 170,
   "id": "f68bd5f5-25f7-46e8-a8fb-8f781d6a080a",
   "metadata": {},
   "outputs": [],
   "source": [
    "#saving the cleaned data\n",
    "df.to_csv(r\"C:\\Users\\manis\\Downloads\\Diwali_Sales_Cleaned_Data.csv\")"
   ]
  },
  {
   "cell_type": "markdown",
   "id": "90f88bc5-d922-4fe3-aac8-37d723e2210e",
   "metadata": {},
   "source": [
    "# Exploratory Data Analysis"
   ]
  },
  {
   "cell_type": "markdown",
   "id": "01a25994-7e0a-4e8d-a139-fc200ec1f413",
   "metadata": {},
   "source": [
    "## Statistical Analysis"
   ]
  },
  {
   "cell_type": "code",
   "execution_count": 171,
   "id": "8b3c5401-b39c-48f3-9352-00ebf6920daa",
   "metadata": {},
   "outputs": [
    {
     "data": {
      "text/html": [
       "<div>\n",
       "<style scoped>\n",
       "    .dataframe tbody tr th:only-of-type {\n",
       "        vertical-align: middle;\n",
       "    }\n",
       "\n",
       "    .dataframe tbody tr th {\n",
       "        vertical-align: top;\n",
       "    }\n",
       "\n",
       "    .dataframe thead th {\n",
       "        text-align: right;\n",
       "    }\n",
       "</style>\n",
       "<table border=\"1\" class=\"dataframe\">\n",
       "  <thead>\n",
       "    <tr style=\"text-align: right;\">\n",
       "      <th></th>\n",
       "      <th>User_ID</th>\n",
       "      <th>Cust_name</th>\n",
       "      <th>Product_ID</th>\n",
       "      <th>Gender</th>\n",
       "      <th>Age Group</th>\n",
       "      <th>Age</th>\n",
       "      <th>Marital_Status</th>\n",
       "      <th>State</th>\n",
       "      <th>Zone</th>\n",
       "      <th>Occupation</th>\n",
       "      <th>Product_Category</th>\n",
       "      <th>Orders</th>\n",
       "      <th>Amount</th>\n",
       "      <th>marraige_status</th>\n",
       "    </tr>\n",
       "  </thead>\n",
       "  <tbody>\n",
       "    <tr>\n",
       "      <th>18</th>\n",
       "      <td>1001883.0</td>\n",
       "      <td>Praneet</td>\n",
       "      <td>P00029842</td>\n",
       "      <td>M</td>\n",
       "      <td>26-35</td>\n",
       "      <td>54.0</td>\n",
       "      <td>1.0</td>\n",
       "      <td>Uttar Pradesh</td>\n",
       "      <td>Central</td>\n",
       "      <td>Hospitality</td>\n",
       "      <td>Auto</td>\n",
       "      <td>1.0</td>\n",
       "      <td>23568.0</td>\n",
       "      <td>Married</td>\n",
       "    </tr>\n",
       "    <tr>\n",
       "      <th>19</th>\n",
       "      <td>1001883.0</td>\n",
       "      <td>Praneet</td>\n",
       "      <td>P00029842</td>\n",
       "      <td>M</td>\n",
       "      <td>26-35</td>\n",
       "      <td>54.0</td>\n",
       "      <td>1.0</td>\n",
       "      <td>Uttar Pradesh</td>\n",
       "      <td>Central</td>\n",
       "      <td>Hospitality</td>\n",
       "      <td>Auto</td>\n",
       "      <td>1.0</td>\n",
       "      <td>23568.0</td>\n",
       "      <td>Married</td>\n",
       "    </tr>\n",
       "    <tr>\n",
       "      <th>20</th>\n",
       "      <td>1000113.0</td>\n",
       "      <td>Ellis</td>\n",
       "      <td>P00180642</td>\n",
       "      <td>F</td>\n",
       "      <td>26-35</td>\n",
       "      <td>19.0</td>\n",
       "      <td>1.0</td>\n",
       "      <td>Andhra Pradesh</td>\n",
       "      <td>Southern</td>\n",
       "      <td>Govt</td>\n",
       "      <td>Auto</td>\n",
       "      <td>4.0</td>\n",
       "      <td>23546.0</td>\n",
       "      <td>Married</td>\n",
       "    </tr>\n",
       "    <tr>\n",
       "      <th>21</th>\n",
       "      <td>1000416.0</td>\n",
       "      <td>Hrisheekesh</td>\n",
       "      <td>P00181842</td>\n",
       "      <td>F</td>\n",
       "      <td>26-35</td>\n",
       "      <td>46.0</td>\n",
       "      <td>1.0</td>\n",
       "      <td>Uttar Pradesh</td>\n",
       "      <td>Central</td>\n",
       "      <td>Banking</td>\n",
       "      <td>Auto</td>\n",
       "      <td>2.0</td>\n",
       "      <td>23525.0</td>\n",
       "      <td>Married</td>\n",
       "    </tr>\n",
       "    <tr>\n",
       "      <th>22</th>\n",
       "      <td>1005256.0</td>\n",
       "      <td>Grant</td>\n",
       "      <td>P00101742</td>\n",
       "      <td>F</td>\n",
       "      <td>26-35</td>\n",
       "      <td>30.0</td>\n",
       "      <td>0.0</td>\n",
       "      <td>Andhra Pradesh</td>\n",
       "      <td>Southern</td>\n",
       "      <td>IT Sector</td>\n",
       "      <td>Auto</td>\n",
       "      <td>1.0</td>\n",
       "      <td>23518.0</td>\n",
       "      <td>Unmarried</td>\n",
       "    </tr>\n",
       "  </tbody>\n",
       "</table>\n",
       "</div>"
      ],
      "text/plain": [
       "      User_ID    Cust_name Product_ID Gender Age Group   Age  Marital_Status  \\\n",
       "18  1001883.0      Praneet  P00029842      M     26-35  54.0             1.0   \n",
       "19  1001883.0      Praneet  P00029842      M     26-35  54.0             1.0   \n",
       "20  1000113.0        Ellis  P00180642      F     26-35  19.0             1.0   \n",
       "21  1000416.0  Hrisheekesh  P00181842      F     26-35  46.0             1.0   \n",
       "22  1005256.0        Grant  P00101742      F     26-35  30.0             0.0   \n",
       "\n",
       "             State      Zone   Occupation Product_Category  Orders   Amount  \\\n",
       "18   Uttar Pradesh   Central  Hospitality             Auto     1.0  23568.0   \n",
       "19   Uttar Pradesh   Central  Hospitality             Auto     1.0  23568.0   \n",
       "20  Andhra Pradesh  Southern         Govt             Auto     4.0  23546.0   \n",
       "21   Uttar Pradesh   Central      Banking             Auto     2.0  23525.0   \n",
       "22  Andhra Pradesh  Southern    IT Sector             Auto     1.0  23518.0   \n",
       "\n",
       "   marraige_status  \n",
       "18         Married  \n",
       "19         Married  \n",
       "20         Married  \n",
       "21         Married  \n",
       "22       Unmarried  "
      ]
     },
     "execution_count": 171,
     "metadata": {},
     "output_type": "execute_result"
    }
   ],
   "source": [
    "df.head()\n"
   ]
  },
  {
   "cell_type": "code",
   "execution_count": 172,
   "id": "e86fe1ea-cfe1-40d0-9187-41269221f7c3",
   "metadata": {},
   "outputs": [
    {
     "data": {
      "text/html": [
       "<div>\n",
       "<style scoped>\n",
       "    .dataframe tbody tr th:only-of-type {\n",
       "        vertical-align: middle;\n",
       "    }\n",
       "\n",
       "    .dataframe tbody tr th {\n",
       "        vertical-align: top;\n",
       "    }\n",
       "\n",
       "    .dataframe thead th {\n",
       "        text-align: right;\n",
       "    }\n",
       "</style>\n",
       "<table border=\"1\" class=\"dataframe\">\n",
       "  <thead>\n",
       "    <tr style=\"text-align: right;\">\n",
       "      <th></th>\n",
       "      <th>User_ID</th>\n",
       "      <th>Age</th>\n",
       "      <th>Marital_Status</th>\n",
       "      <th>Orders</th>\n",
       "      <th>Amount</th>\n",
       "    </tr>\n",
       "  </thead>\n",
       "  <tbody>\n",
       "    <tr>\n",
       "      <th>count</th>\n",
       "      <td>1.123400e+04</td>\n",
       "      <td>11234.000000</td>\n",
       "      <td>11234.000000</td>\n",
       "      <td>11234.000000</td>\n",
       "      <td>11234.000000</td>\n",
       "    </tr>\n",
       "    <tr>\n",
       "      <th>mean</th>\n",
       "      <td>1.007453e+06</td>\n",
       "      <td>35.433772</td>\n",
       "      <td>0.419708</td>\n",
       "      <td>2.489496</td>\n",
       "      <td>9452.764638</td>\n",
       "    </tr>\n",
       "    <tr>\n",
       "      <th>std</th>\n",
       "      <td>2.109026e+05</td>\n",
       "      <td>12.759432</td>\n",
       "      <td>0.493533</td>\n",
       "      <td>1.114845</td>\n",
       "      <td>5213.784648</td>\n",
       "    </tr>\n",
       "    <tr>\n",
       "      <th>min</th>\n",
       "      <td>1.000001e+06</td>\n",
       "      <td>12.000000</td>\n",
       "      <td>0.000000</td>\n",
       "      <td>1.000000</td>\n",
       "      <td>188.000000</td>\n",
       "    </tr>\n",
       "    <tr>\n",
       "      <th>25%</th>\n",
       "      <td>1.001496e+06</td>\n",
       "      <td>27.000000</td>\n",
       "      <td>0.000000</td>\n",
       "      <td>2.000000</td>\n",
       "      <td>5443.000000</td>\n",
       "    </tr>\n",
       "    <tr>\n",
       "      <th>50%</th>\n",
       "      <td>1.003064e+06</td>\n",
       "      <td>33.000000</td>\n",
       "      <td>0.000000</td>\n",
       "      <td>2.000000</td>\n",
       "      <td>8109.500000</td>\n",
       "    </tr>\n",
       "    <tr>\n",
       "      <th>75%</th>\n",
       "      <td>1.004429e+06</td>\n",
       "      <td>43.000000</td>\n",
       "      <td>1.000000</td>\n",
       "      <td>3.000000</td>\n",
       "      <td>12681.500000</td>\n",
       "    </tr>\n",
       "    <tr>\n",
       "      <th>max</th>\n",
       "      <td>1.100173e+07</td>\n",
       "      <td>92.000000</td>\n",
       "      <td>1.000000</td>\n",
       "      <td>4.000000</td>\n",
       "      <td>23568.000000</td>\n",
       "    </tr>\n",
       "  </tbody>\n",
       "</table>\n",
       "</div>"
      ],
      "text/plain": [
       "            User_ID           Age  Marital_Status        Orders        Amount\n",
       "count  1.123400e+04  11234.000000    11234.000000  11234.000000  11234.000000\n",
       "mean   1.007453e+06     35.433772        0.419708      2.489496   9452.764638\n",
       "std    2.109026e+05     12.759432        0.493533      1.114845   5213.784648\n",
       "min    1.000001e+06     12.000000        0.000000      1.000000    188.000000\n",
       "25%    1.001496e+06     27.000000        0.000000      2.000000   5443.000000\n",
       "50%    1.003064e+06     33.000000        0.000000      2.000000   8109.500000\n",
       "75%    1.004429e+06     43.000000        1.000000      3.000000  12681.500000\n",
       "max    1.100173e+07     92.000000        1.000000      4.000000  23568.000000"
      ]
     },
     "execution_count": 172,
     "metadata": {},
     "output_type": "execute_result"
    }
   ],
   "source": [
    "df.describe()"
   ]
  },
  {
   "cell_type": "markdown",
   "id": "9549654a-d309-4607-94e1-79f2f9505420",
   "metadata": {},
   "source": [
    "# Data Visualization"
   ]
  },
  {
   "cell_type": "markdown",
   "id": "3b162f6c-82cd-4d62-b2f2-8796c944523c",
   "metadata": {},
   "source": [
    "### Gender Wise Analysis"
   ]
  },
  {
   "cell_type": "code",
   "execution_count": 173,
   "id": "158e9e05-416a-4614-85f4-1d3679f2e408",
   "metadata": {},
   "outputs": [
    {
     "name": "stdout",
     "output_type": "stream",
     "text": [
      "Gender wise Purchase Power \n",
      "   Gender  Orders\n",
      "0      F    7835\n",
      "1      M    3399\n",
      "Gender wise Purchase Power \n",
      "   Gender       Amount\n",
      "0      F  74422989.94\n",
      "1      M  31769368.00\n"
     ]
    }
   ],
   "source": [
    "# plot data\n",
    "data_gender_count = df.groupby(['Gender'], as_index =False)['Orders'].count()\n",
    "print(\"Gender wise Purchase Power \\n\",data_gender_count)\n",
    "\n",
    "data_gender_amount = df.groupby(['Gender'], as_index =False)['Amount'].sum()\n",
    "print(\"Gender wise Purchase Power \\n\",data_gender_amount)"
   ]
  },
  {
   "cell_type": "code",
   "execution_count": 174,
   "id": "b9ab9df9-53df-467a-8218-4e95dedcf842",
   "metadata": {},
   "outputs": [
    {
     "data": {
      "image/png": "[encoded data removed]",
      "text/plain": [
       "<Figure size 2000x800 with 2 Axes>"
      ]
     },
     "metadata": {},
     "output_type": "display_data"
    }
   ],
   "source": [
    "# Plotting\n",
    "fig,ax = plt.subplots(1,2,figsize =(20, 8))\n",
    "# Pie chart\n",
    "ax[0].pie(x=data_gender_count['Orders'],\n",
    "          labels = data_gender_count['Gender'],autopct =\"%1.2f%%\")\n",
    "ax[0].set_title(\"Gender wise order count\")\n",
    "\n",
    "# Bar chart \n",
    "sns.barplot(x = 'Gender' , y ='Amount', data = data_gender_amount, ax = ax[1])\n",
    "ax[1].set_title(\"Gender wise purchase power\")\n",
    "plt.show()\n"
   ]
  },
  {
   "cell_type": "markdown",
   "id": "28889653-5acd-4f3d-885e-377005f92272",
   "metadata": {},
   "source": [
    "#### Conclusion :\n",
    "Females generally place more order and their purchase power is also higher."
   ]
  },
  {
   "cell_type": "markdown",
   "id": "be0d28a6-6daa-4ec0-8cc5-639b37d18537",
   "metadata": {},
   "source": [
    "### Marital Status Wise Analysis"
   ]
  },
  {
   "cell_type": "code",
   "execution_count": 175,
   "id": "6261796c-8eee-4d90-b75f-79278a26142d",
   "metadata": {},
   "outputs": [
    {
     "data": {
      "text/html": [
       "<div>\n",
       "<style scoped>\n",
       "    .dataframe tbody tr th:only-of-type {\n",
       "        vertical-align: middle;\n",
       "    }\n",
       "\n",
       "    .dataframe tbody tr th {\n",
       "        vertical-align: top;\n",
       "    }\n",
       "\n",
       "    .dataframe thead th {\n",
       "        text-align: right;\n",
       "    }\n",
       "</style>\n",
       "<table border=\"1\" class=\"dataframe\">\n",
       "  <thead>\n",
       "    <tr style=\"text-align: right;\">\n",
       "      <th></th>\n",
       "      <th>marraige_status</th>\n",
       "      <th>Amount</th>\n",
       "    </tr>\n",
       "  </thead>\n",
       "  <tbody>\n",
       "    <tr>\n",
       "      <th>0</th>\n",
       "      <td>Married</td>\n",
       "      <td>44003938.00</td>\n",
       "    </tr>\n",
       "    <tr>\n",
       "      <th>1</th>\n",
       "      <td>Unmarried</td>\n",
       "      <td>62188419.94</td>\n",
       "    </tr>\n",
       "  </tbody>\n",
       "</table>\n",
       "</div>"
      ],
      "text/plain": [
       "  marraige_status       Amount\n",
       "0         Married  44003938.00\n",
       "1       Unmarried  62188419.94"
      ]
     },
     "execution_count": 175,
     "metadata": {},
     "output_type": "execute_result"
    }
   ],
   "source": [
    "data_marraige_status_amount = df.groupby(['marraige_status'], as_index =False)['Amount'].sum()\n",
    "data_marraige_status_amount"
   ]
  },
  {
   "cell_type": "code",
   "execution_count": 176,
   "id": "dc561a91-eb6c-41d2-81c0-606cc26f4009",
   "metadata": {},
   "outputs": [
    {
     "data": {
      "image/png": "[encoded data removed]",
      "text/plain": [
       "<Figure size 2000x800 with 2 Axes>"
      ]
     },
     "metadata": {},
     "output_type": "display_data"
    }
   ],
   "source": [
    "# plots\n",
    "fig, ax = plt.subplots(1,2, figsize =(20,8))\n",
    "\n",
    "# Countplot\n",
    "sns.countplot(x = 'marraige_status', hue ='Gender', data =df ,ax=ax[0])\n",
    "ax[0].set_title('Order count - Marraige Status')\n",
    "\n",
    "sns.barplot(y = 'marraige_status', x = 'Amount', orient ='h', data =data_marraige_status_amount, ax = ax[1])\n",
    "ax[1].set_title('Purchase - Marraige Status')\n",
    "\n",
    "plt.show()"
   ]
  },
  {
   "cell_type": "markdown",
   "id": "640b9219-c7db-4e3b-a6f8-e5d2103892c6",
   "metadata": {},
   "source": [
    "#### Conclusion\n",
    "Unmarried females place more order than married female and unmarried male.\n",
    " Also unmarried male place more order than married male.\n"
   ]
  },
  {
   "cell_type": "markdown",
   "id": "5f90e43a-86d2-4897-a226-c4824b904d57",
   "metadata": {},
   "source": [
    "#### Age Group Wise Analysis"
   ]
  },
  {
   "cell_type": "code",
   "execution_count": 177,
   "id": "5acb418f-2d22-492e-9cb1-e1ad231976af",
   "metadata": {},
   "outputs": [
    {
     "data": {
      "text/html": [
       "<div>\n",
       "<style scoped>\n",
       "    .dataframe tbody tr th:only-of-type {\n",
       "        vertical-align: middle;\n",
       "    }\n",
       "\n",
       "    .dataframe tbody tr th {\n",
       "        vertical-align: top;\n",
       "    }\n",
       "\n",
       "    .dataframe thead th {\n",
       "        text-align: right;\n",
       "    }\n",
       "</style>\n",
       "<table border=\"1\" class=\"dataframe\">\n",
       "  <thead>\n",
       "    <tr style=\"text-align: right;\">\n",
       "      <th></th>\n",
       "      <th>Age Group</th>\n",
       "      <th>Amount</th>\n",
       "    </tr>\n",
       "  </thead>\n",
       "  <tbody>\n",
       "    <tr>\n",
       "      <th>0</th>\n",
       "      <td>0-17</td>\n",
       "      <td>2696529.00</td>\n",
       "    </tr>\n",
       "    <tr>\n",
       "      <th>1</th>\n",
       "      <td>18-25</td>\n",
       "      <td>17032196.00</td>\n",
       "    </tr>\n",
       "    <tr>\n",
       "      <th>2</th>\n",
       "      <td>26-35</td>\n",
       "      <td>42603794.95</td>\n",
       "    </tr>\n",
       "    <tr>\n",
       "      <th>3</th>\n",
       "      <td>36-45</td>\n",
       "      <td>22234332.99</td>\n",
       "    </tr>\n",
       "    <tr>\n",
       "      <th>4</th>\n",
       "      <td>46-50</td>\n",
       "      <td>9245595.00</td>\n",
       "    </tr>\n",
       "    <tr>\n",
       "      <th>5</th>\n",
       "      <td>51-55</td>\n",
       "      <td>8278320.00</td>\n",
       "    </tr>\n",
       "    <tr>\n",
       "      <th>6</th>\n",
       "      <td>55+</td>\n",
       "      <td>4101590.00</td>\n",
       "    </tr>\n",
       "  </tbody>\n",
       "</table>\n",
       "</div>"
      ],
      "text/plain": [
       "  Age Group       Amount\n",
       "0      0-17   2696529.00\n",
       "1     18-25  17032196.00\n",
       "2     26-35  42603794.95\n",
       "3     36-45  22234332.99\n",
       "4     46-50   9245595.00\n",
       "5     51-55   8278320.00\n",
       "6       55+   4101590.00"
      ]
     },
     "execution_count": 177,
     "metadata": {},
     "output_type": "execute_result"
    }
   ],
   "source": [
    "data_age_group_amount = df.groupby(['Age Group'], as_index =False)['Amount'].sum()\n",
    "data_age_group_amount"
   ]
  },
  {
   "cell_type": "code",
   "execution_count": 178,
   "id": "7ae2b75e-4887-4b5b-9ee2-e6b7f5e8cdd0",
   "metadata": {},
   "outputs": [
    {
     "data": {
      "image/png": "[encoded data removed]",
      "text/plain": [
       "<Figure size 2000x800 with 2 Axes>"
      ]
     },
     "metadata": {},
     "output_type": "display_data"
    }
   ],
   "source": [
    "# plots\n",
    "fig, ax = plt.subplots(1,2, figsize =(20,8))\n",
    "\n",
    "# Countplot\n",
    "sns.countplot(x = 'Age Group',  data =df ,ax=ax[0])\n",
    "ax[0].set_title('Marraige Status')\n",
    "\n",
    "sns.barplot(y = 'Age Group', x = 'Amount', orient ='h', data =data_age_group_amount, ax = ax[1])\n",
    "ax[1].set_title('Amount')\n",
    "\n",
    "plt.show()"
   ]
  },
  {
   "cell_type": "markdown",
   "id": "6503849f-0321-4b9d-b15c-08c500146143",
   "metadata": {},
   "source": [
    "#### Conclusion\n",
    "Age group 26-35 years spend more money."
   ]
  },
  {
   "cell_type": "markdown",
   "id": "f485edac-ece3-435e-8577-4f1762a1c08b",
   "metadata": {},
   "source": [
    "#### Analysis Parameter\n",
    "- Gender\n",
    "- marraige_status\n",
    "- Age Group\n",
    "- Product_Category\n",
    "- State\n",
    "- Product_ID\n",
    "- Occupation\n"
   ]
  },
  {
   "cell_type": "markdown",
   "id": "dbbc3b2f-0f99-4e36-91c9-0432231cd471",
   "metadata": {},
   "source": [
    "#### Product Category Wise Analysis"
   ]
  },
  {
   "cell_type": "code",
   "execution_count": 179,
   "id": "66727c7b-bad7-4998-8a53-9712899d836d",
   "metadata": {},
   "outputs": [
    {
     "data": {
      "text/html": [
       "<div>\n",
       "<style scoped>\n",
       "    .dataframe tbody tr th:only-of-type {\n",
       "        vertical-align: middle;\n",
       "    }\n",
       "\n",
       "    .dataframe tbody tr th {\n",
       "        vertical-align: top;\n",
       "    }\n",
       "\n",
       "    .dataframe thead th {\n",
       "        text-align: right;\n",
       "    }\n",
       "</style>\n",
       "<table border=\"1\" class=\"dataframe\">\n",
       "  <thead>\n",
       "    <tr style=\"text-align: right;\">\n",
       "      <th></th>\n",
       "      <th>Product_Category</th>\n",
       "      <th>Amount</th>\n",
       "    </tr>\n",
       "  </thead>\n",
       "  <tbody>\n",
       "    <tr>\n",
       "      <th>0</th>\n",
       "      <td>Auto</td>\n",
       "      <td>1624503.00</td>\n",
       "    </tr>\n",
       "    <tr>\n",
       "      <th>1</th>\n",
       "      <td>Beauty</td>\n",
       "      <td>1959484.00</td>\n",
       "    </tr>\n",
       "    <tr>\n",
       "      <th>2</th>\n",
       "      <td>Books</td>\n",
       "      <td>1061478.00</td>\n",
       "    </tr>\n",
       "    <tr>\n",
       "      <th>3</th>\n",
       "      <td>Clothing &amp; Apparel</td>\n",
       "      <td>16484472.00</td>\n",
       "    </tr>\n",
       "    <tr>\n",
       "      <th>4</th>\n",
       "      <td>Decor</td>\n",
       "      <td>730360.00</td>\n",
       "    </tr>\n",
       "    <tr>\n",
       "      <th>5</th>\n",
       "      <td>Electronics &amp; Gadgets</td>\n",
       "      <td>15607657.00</td>\n",
       "    </tr>\n",
       "    <tr>\n",
       "      <th>6</th>\n",
       "      <td>Food</td>\n",
       "      <td>33933883.50</td>\n",
       "    </tr>\n",
       "    <tr>\n",
       "      <th>7</th>\n",
       "      <td>Footwear &amp; Shoes</td>\n",
       "      <td>16009057.45</td>\n",
       "    </tr>\n",
       "    <tr>\n",
       "      <th>8</th>\n",
       "      <td>Furniture</td>\n",
       "      <td>5481325.99</td>\n",
       "    </tr>\n",
       "    <tr>\n",
       "      <th>9</th>\n",
       "      <td>Games &amp; Toys</td>\n",
       "      <td>4331694.00</td>\n",
       "    </tr>\n",
       "    <tr>\n",
       "      <th>10</th>\n",
       "      <td>Hand &amp; Power Tools</td>\n",
       "      <td>405618.00</td>\n",
       "    </tr>\n",
       "    <tr>\n",
       "      <th>11</th>\n",
       "      <td>Household items</td>\n",
       "      <td>1569337.00</td>\n",
       "    </tr>\n",
       "    <tr>\n",
       "      <th>12</th>\n",
       "      <td>Office</td>\n",
       "      <td>81936.00</td>\n",
       "    </tr>\n",
       "    <tr>\n",
       "      <th>13</th>\n",
       "      <td>Pet Care</td>\n",
       "      <td>482277.00</td>\n",
       "    </tr>\n",
       "    <tr>\n",
       "      <th>14</th>\n",
       "      <td>Sports Products</td>\n",
       "      <td>3635933.00</td>\n",
       "    </tr>\n",
       "    <tr>\n",
       "      <th>15</th>\n",
       "      <td>Stationery</td>\n",
       "      <td>1504531.00</td>\n",
       "    </tr>\n",
       "    <tr>\n",
       "      <th>16</th>\n",
       "      <td>Tupperware</td>\n",
       "      <td>1176109.00</td>\n",
       "    </tr>\n",
       "    <tr>\n",
       "      <th>17</th>\n",
       "      <td>Veterinary</td>\n",
       "      <td>112702.00</td>\n",
       "    </tr>\n",
       "  </tbody>\n",
       "</table>\n",
       "</div>"
      ],
      "text/plain": [
       "         Product_Category       Amount\n",
       "0                    Auto   1624503.00\n",
       "1                  Beauty   1959484.00\n",
       "2                   Books   1061478.00\n",
       "3      Clothing & Apparel  16484472.00\n",
       "4                   Decor    730360.00\n",
       "5   Electronics & Gadgets  15607657.00\n",
       "6                    Food  33933883.50\n",
       "7        Footwear & Shoes  16009057.45\n",
       "8               Furniture   5481325.99\n",
       "9            Games & Toys   4331694.00\n",
       "10     Hand & Power Tools    405618.00\n",
       "11        Household items   1569337.00\n",
       "12                 Office     81936.00\n",
       "13               Pet Care    482277.00\n",
       "14        Sports Products   3635933.00\n",
       "15             Stationery   1504531.00\n",
       "16             Tupperware   1176109.00\n",
       "17             Veterinary    112702.00"
      ]
     },
     "execution_count": 179,
     "metadata": {},
     "output_type": "execute_result"
    }
   ],
   "source": [
    "data_product_category_amount = df.groupby(['Product_Category'], as_index =False)['Amount'].sum()\n",
    "data_product_category_amount"
   ]
  },
  {
   "cell_type": "code",
   "execution_count": 180,
   "id": "dd3b15ca-c015-4993-adee-270957c27b64",
   "metadata": {},
   "outputs": [
    {
     "data": {
      "image/png": "[encoded data removed]",
      "text/plain": [
       "<Figure size 2700x500 with 1 Axes>"
      ]
     },
     "metadata": {},
     "output_type": "display_data"
    }
   ],
   "source": [
    "fig, ax = plt.subplots(figsize=(27,5))\n",
    "ax = sns.countplot(data = df, x = 'Product_Category')\n",
    "plt.title(\"Total count of each product category\")\n",
    "\n",
    "for bars in ax.containers:\n",
    "    ax.bar_label(bars)\n",
    "\n"
   ]
  },
  {
   "cell_type": "code",
   "execution_count": 181,
   "id": "441e747a-2902-4297-82d9-57ad1bd4f3c8",
   "metadata": {},
   "outputs": [
    {
     "data": {
      "text/plain": [
       "Text(0.5, 1.0, 'Total amount spent on each product category')"
      ]
     },
     "execution_count": 181,
     "metadata": {},
     "output_type": "execute_result"
    },
    {
     "data": {
      "image/png": "[encoded data removed]",
      "text/plain": [
       "<Figure size 2500x500 with 1 Axes>"
      ]
     },
     "metadata": {},
     "output_type": "display_data"
    }
   ],
   "source": [
    "\n",
    "sales_category_amount = df.groupby(['Product_Category'], as_index= False)['Amount'].sum().sort_values(by='Amount', ascending = False).head(5)\n",
    "fig, ax = plt.subplots(figsize=(25,5))\n",
    "sns.barplot(data = sales_category_amount, x = 'Product_Category',y= 'Amount')\n",
    "plt.title(\"Total amount spent on each product category\")\n"
   ]
  },
  {
   "cell_type": "markdown",
   "id": "1eaaf8ab-ef7d-4420-b6bd-1aa243a2ec83",
   "metadata": {},
   "source": [
    "#### Conclusion\n",
    "Maximum products sold are from clothes and apparel category, whereas maximum amount is spent in stationary category"
   ]
  },
  {
   "cell_type": "markdown",
   "id": "6598532f-985c-4b23-a867-41efc7cafd69",
   "metadata": {},
   "source": [
    "#### State wise Analysis "
   ]
  },
  {
   "cell_type": "code",
   "execution_count": 182,
   "id": "3aac84bb-ff92-467d-a44b-e233bb26d935",
   "metadata": {},
   "outputs": [
    {
     "data": {
      "text/plain": [
       "Text(0.5, 1.0, 'Total orders per state')"
      ]
     },
     "execution_count": 182,
     "metadata": {},
     "output_type": "execute_result"
    },
    {
     "data": {
      "image/png": "[encoded data removed]",
      "text/plain": [
       "<Figure size 2000x700 with 1 Axes>"
      ]
     },
     "metadata": {},
     "output_type": "display_data"
    }
   ],
   "source": [
    "# total number of orders per state\n",
    "\n",
    "state = df.groupby(['State'], as_index=False)['Orders'].sum().sort_values(by='Orders', ascending = False).head(5)\n",
    "\n",
    "fig, ax = plt.subplots(figsize=(20,7))\n",
    "sns.barplot(data = state, x = 'State',y= 'Orders')\n",
    "plt.title(\"Total orders per state\")\n",
    "\n",
    "\n",
    "\n"
   ]
  },
  {
   "cell_type": "code",
   "execution_count": 183,
   "id": "8b07c1cd-bac7-4372-b852-52ff06e75f71",
   "metadata": {},
   "outputs": [
    {
     "data": {
      "text/html": [
       "<div>\n",
       "<style scoped>\n",
       "    .dataframe tbody tr th:only-of-type {\n",
       "        vertical-align: middle;\n",
       "    }\n",
       "\n",
       "    .dataframe tbody tr th {\n",
       "        vertical-align: top;\n",
       "    }\n",
       "\n",
       "    .dataframe thead th {\n",
       "        text-align: right;\n",
       "    }\n",
       "</style>\n",
       "<table border=\"1\" class=\"dataframe\">\n",
       "  <thead>\n",
       "    <tr style=\"text-align: right;\">\n",
       "      <th></th>\n",
       "      <th>State</th>\n",
       "      <th>Amount</th>\n",
       "    </tr>\n",
       "  </thead>\n",
       "  <tbody>\n",
       "    <tr>\n",
       "      <th>14</th>\n",
       "      <td>Uttar Pradesh</td>\n",
       "      <td>19360148.00</td>\n",
       "    </tr>\n",
       "    <tr>\n",
       "      <th>10</th>\n",
       "      <td>Maharashtra</td>\n",
       "      <td>14400762.00</td>\n",
       "    </tr>\n",
       "    <tr>\n",
       "      <th>7</th>\n",
       "      <td>Karnataka</td>\n",
       "      <td>13705829.00</td>\n",
       "    </tr>\n",
       "    <tr>\n",
       "      <th>2</th>\n",
       "      <td>Delhi</td>\n",
       "      <td>11554343.95</td>\n",
       "    </tr>\n",
       "    <tr>\n",
       "      <th>9</th>\n",
       "      <td>Madhya Pradesh</td>\n",
       "      <td>8100944.00</td>\n",
       "    </tr>\n",
       "  </tbody>\n",
       "</table>\n",
       "</div>"
      ],
      "text/plain": [
       "             State       Amount\n",
       "14   Uttar Pradesh  19360148.00\n",
       "10     Maharashtra  14400762.00\n",
       "7        Karnataka  13705829.00\n",
       "2            Delhi  11554343.95\n",
       "9   Madhya Pradesh   8100944.00"
      ]
     },
     "execution_count": 183,
     "metadata": {},
     "output_type": "execute_result"
    },
    {
     "data": {
      "image/png": "[encoded data removed]",
      "text/plain": [
       "<Figure size 2000x500 with 1 Axes>"
      ]
     },
     "metadata": {},
     "output_type": "display_data"
    }
   ],
   "source": [
    "# total amount spent per state\n",
    "\n",
    "state = df.groupby(['State'], as_index=False)['Amount'].sum().sort_values(by='Amount', ascending=False).head(5)\n",
    "fig, ax = plt.subplots(figsize=(20,5))\n",
    "\n",
    "sns.barplot(data = state, x = 'State',y= 'Amount')\n",
    "plt.title(\"Total amount spent per state\")\n",
    "state"
   ]
  },
  {
   "cell_type": "markdown",
   "id": "20666fe3-a309-4468-9bf0-7baf57cf9f7f",
   "metadata": {},
   "source": [
    "#### Conclusion\n",
    "- Uttar pradesh has a placed maximum number of orders\n",
    "- Delhi has spent maximum amount on orders"
   ]
  },
  {
   "cell_type": "markdown",
   "id": "96bec158-7c59-42e6-8b84-ead3380459af",
   "metadata": {},
   "source": [
    "#### Occupation Wise Analysis"
   ]
  },
  {
   "cell_type": "code",
   "execution_count": 184,
   "id": "99e037ee-9eaa-447c-abc1-c4246cf9ec4f",
   "metadata": {},
   "outputs": [
    {
     "data": {
      "image/png": "[encoded data removed]",
      "text/plain": [
       "<Figure size 2000x600 with 1 Axes>"
      ]
     },
     "metadata": {},
     "output_type": "display_data"
    }
   ],
   "source": [
    "occupation = df.groupby(['Occupation'], as_index = False)['Orders'].sum().sort_values(by = 'Orders', ascending = False)\n",
    "\n",
    "# plot the data on a bar graph\n",
    "fig, ax = plt.subplots(figsize=(20,6))\n",
    "occupation_plot = sns.countplot(data = df, x = 'Occupation')\n",
    "plt.title(\"Total Customer Count by Occupation\")\n",
    "\n",
    "for bars in ax.containers:\n",
    "    ax.bar_label(bars)"
   ]
  },
  {
   "cell_type": "code",
   "execution_count": 126,
   "id": "0b49062f-bb27-4e9c-a28e-b693bc136fe1",
   "metadata": {},
   "outputs": [
    {
     "data": {
      "text/plain": [
       "Text(0.5, 1.0, 'Amount spent by customer accoring to their occupation')"
      ]
     },
     "execution_count": 126,
     "metadata": {},
     "output_type": "execute_result"
    },
    {
     "data": {
      "image/png": "[encoded data removed]",
      "text/plain": [
       "<Figure size 2000x400 with 1 Axes>"
      ]
     },
     "metadata": {},
     "output_type": "display_data"
    }
   ],
   "source": [
    "occupation_data = df.groupby(['Occupation'], as_index = False).sum(\"Amount\").sort_values(by= 'Amount', ascending = False).head()\n",
    "\n",
    "# plot the data\n",
    "fig, ax = plt.subplots(figsize=(20,4))\n",
    "graph_plot = sns.barplot(x= 'Occupation', y = 'Amount', data = occupation_data)\n",
    "plt.title(\"Amount spent by customer accoring to their occupation\")\n"
   ]
  },
  {
   "cell_type": "markdown",
   "id": "5c33b1f6-2080-405a-acc2-24b502136b55",
   "metadata": {},
   "source": [
    "#### Conclusion\n",
    "- IT Sector customers have placed more number of orders.\n",
    "- Customer who have Media as their occupation have spent more ammount "
   ]
  },
  {
   "cell_type": "markdown",
   "id": "5eaab663-8193-494a-bda8-e37adeb1b742",
   "metadata": {},
   "source": [
    "#### Product ID wise anaylsis"
   ]
  },
  {
   "cell_type": "code",
   "execution_count": 186,
   "id": "1d6a7ed0-06fb-4830-a91b-4499ded327af",
   "metadata": {},
   "outputs": [
    {
     "data": {
      "text/plain": [
       "Text(0.5, 1.0, 'Number of orders per Product ID')"
      ]
     },
     "execution_count": 186,
     "metadata": {},
     "output_type": "execute_result"
    },
    {
     "data": {
      "image/png": "[encoded data removed]",
      "text/plain": [
       "<Figure size 2000x400 with 1 Axes>"
      ]
     },
     "metadata": {},
     "output_type": "display_data"
    }
   ],
   "source": [
    "product_id = df.groupby(['Product_ID'], as_index=False)['Orders'].sum().sort_values(by='Orders', ascending=False).head(5)\n",
    "\n",
    "sns.set(rc={'figure.figsize':(20,4)})\n",
    "sns.barplot(data = product_id, x = 'Product_ID',y= 'Orders')\n",
    "plt.title(\"Number of orders per Product ID\")"
   ]
  },
  {
   "cell_type": "code",
   "execution_count": 185,
   "id": "6da0663d-1bb2-4cb4-8745-306731e06ca2",
   "metadata": {},
   "outputs": [
    {
     "data": {
      "text/plain": [
       "Text(0.5, 1.0, 'Amount spent on each Product ID')"
      ]
     },
     "execution_count": 185,
     "metadata": {},
     "output_type": "execute_result"
    },
    {
     "data": {
      "image/png": "[encoded data removed]",
      "text/plain": [
       "<Figure size 2000x400 with 1 Axes>"
      ]
     },
     "metadata": {},
     "output_type": "display_data"
    }
   ],
   "source": [
    "product_id_amount = df.groupby(['Product_ID'], as_index = False).sum(\"Amount\").head()\n",
    "fig, ax = plt.subplots(figsize=(20,4))\n",
    "graph_plot = sns.barplot(x= 'Product_ID', y = 'Amount', data = product_id_amount)\n",
    "plt.title(\"Amount spent on each Product ID\")"
   ]
  },
  {
   "cell_type": "markdown",
   "id": "434fbb86-df34-4040-b29f-124410301bf5",
   "metadata": {},
   "source": [
    "#### Conclusion\n",
    "Customers have placed more number of orders for the OrderID P00000142 and have spent significantly spent more money on it."
   ]
  },
  {
   "cell_type": "markdown",
   "id": "a7bc5489-9148-4730-84e3-534ed6671167",
   "metadata": {},
   "source": [
    "## Final conclusion\n",
    "Married women age group 26-35 yrs from UP, Maharastra and Karnataka working in IT, Healthcare and Aviation are more likely to buy products from Food, Clothing and Electronics category."
   ]
  },
  {
   "cell_type": "code",
   "execution_count": null,
   "id": "b52e148d-67c2-4b85-80ae-7fdb3f466a53",
   "metadata": {},
   "outputs": [],
   "source": []
  }
 ],
 "metadata": {
  "kernelspec": {
   "display_name": "Python 3 (ipykernel)",
   "language": "python",
   "name": "python3"
  },
  "language_info": {
   "codemirror_mode": {
    "name": "ipython",
    "version": 3
   },
   "file_extension": ".py",
   "mimetype": "text/x-python",
   "name": "python",
   "nbconvert_exporter": "python",
   "pygments_lexer": "ipython3",
   "version": "3.11.7"
  }
 },
 "nbformat": 4,
 "nbformat_minor": 5
}
